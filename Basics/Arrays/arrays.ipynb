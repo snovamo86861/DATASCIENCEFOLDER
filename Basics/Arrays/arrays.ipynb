{
 "cells": [
  {
   "cell_type": "code",
   "execution_count": 2,
   "id": "604335c0-2287-433e-a748-8f4afd65b3a0",
   "metadata": {},
   "outputs": [],
   "source": [
    "from array import  *"
   ]
  },
  {
   "cell_type": "code",
   "execution_count": 7,
   "id": "11221c35-ef89-4bb6-8ce9-ca8a04b1db51",
   "metadata": {},
   "outputs": [
    {
     "name": "stdout",
     "output_type": "stream",
     "text": [
      "25\n",
      "array('i', [1, 4, 25, 36, 50])\n"
     ]
    }
   ],
   "source": [
    "\n",
    "#Accessing the Elements of an Array\n",
    "array1 = array(\"i\", [1,4,25,36,50])\n",
    "print(array1[2])\n",
    "print(array1)\n",
    "\n"
   ]
  },
  {
   "cell_type": "code",
   "execution_count": 8,
   "id": "22ac9acb-a93b-4fd9-bc08-29d76e634ddd",
   "metadata": {},
   "outputs": [
    {
     "name": "stdout",
     "output_type": "stream",
     "text": [
      "array('i', [1, 4, 25, 9, 36, 50])\n"
     ]
    }
   ],
   "source": [
    "#Basic Array Operations\n",
    "\"\"\"Insertion Operation\n",
    "We can add value to an array by using the insert() function. This function inserts the element at the respective index.\n",
    "\n",
    "Syntax: insert(index, value)\n",
    "\n",
    "\"\"\"\n",
    "array1 = array(\"i\", [1,4,25,36,50])\n",
    "array1.insert(3,9)\n",
    "print(array1)\n",
    "\n",
    "\n"
   ]
  },
  {
   "cell_type": "code",
   "execution_count": 9,
   "id": "8a5bb8a7-f321-4b71-b5f2-d6c7f112c1d2",
   "metadata": {},
   "outputs": [
    {
     "name": "stdout",
     "output_type": "stream",
     "text": [
      "array('i', [4, 25, 36, 50])\n"
     ]
    }
   ],
   "source": [
    "#Deletion Operation\n",
    "\"\"\"Array elements can be removed by using remove() or pop().\"\"\"\n",
    "\n",
    "array1 = array(\"i\", [1,4,25,36,50])\n",
    "array1.remove(1)\n",
    "print(array1)\n"
   ]
  },
  {
   "cell_type": "code",
   "execution_count": 10,
   "id": "09217fa7-5310-4f81-b8f0-afccc4779bc3",
   "metadata": {},
   "outputs": [
    {
     "name": "stdout",
     "output_type": "stream",
     "text": [
      "array('i', [1, 4, 36, 50])\n"
     ]
    }
   ],
   "source": [
    "#Deletion Operation\n",
    "\"\"\"Array elements can be removed by using remove() or pop().\"\"\"\n",
    "\n",
    "array1 = array(\"i\", [1,4,25,36,50])\n",
    "array1.pop(2)\n",
    "print(array1)"
   ]
  },
  {
   "cell_type": "code",
   "execution_count": 11,
   "id": "08a465d9-9250-489a-87c1-464cf561676c",
   "metadata": {},
   "outputs": [
    {
     "name": "stdout",
     "output_type": "stream",
     "text": [
      "array('i', [1, 4, 25, 36, 50, 12, 80, 120, 180, 228])\n"
     ]
    }
   ],
   "source": [
    "#Array Concatenation\n",
    "\"\"\"Two arrays can be combined by using the + symbol.\"\"\"\n",
    "\n",
    "array1 = array(\"i\", [1,4,25,36,50])\n",
    "array2 =array(\"i\",[12,80,120,180,228])\n",
    "array3 = array1+array2\n",
    "print(array3)\n"
   ]
  },
  {
   "cell_type": "code",
   "execution_count": 12,
   "id": "ee86e63d-0263-4f8f-baa7-b5dbd76c9a5e",
   "metadata": {},
   "outputs": [
    {
     "name": "stdout",
     "output_type": "stream",
     "text": [
      "1\n",
      "4\n",
      "25\n",
      "36\n",
      "50\n"
     ]
    }
   ],
   "source": [
    "#Looping Through an Array\n",
    "array1 = array(\"i\", [1,4,25,36,50])\n",
    "for x in array1:\n",
    "    print(x)\n"
   ]
  },
  {
   "cell_type": "code",
   "execution_count": 14,
   "id": "9aeb246f-8c5c-45e5-b278-ee0b62879825",
   "metadata": {},
   "outputs": [
    {
     "name": "stdout",
     "output_type": "stream",
     "text": [
      "array('i', [50, 36, 25, 4, 1])\n"
     ]
    }
   ],
   "source": [
    "#Reversing the Elements\n",
    "\"You can reverse the order of elements by using the reverse() method.\"\n",
    "\n",
    "array1 = array(\"i\", [1,4,25,36,50])\n",
    "array1.reverse()\n",
    "print(array1)\n"
   ]
  },
  {
   "cell_type": "code",
   "execution_count": 22,
   "id": "745a8781-1a58-45a6-b680-0d3fbe6ea855",
   "metadata": {},
   "outputs": [
    {
     "data": {
      "text/plain": [
       "1"
      ]
     },
     "execution_count": 22,
     "metadata": {},
     "output_type": "execute_result"
    }
   ],
   "source": [
    "#Count() Method\n",
    "\"The count() method is used to count the number of occurrences of a particular element.\"\n",
    "array1 = array(\"i\", [1,4,25,36,50])\n",
    "array1.count(4)\n",
    "\n",
    "\n",
    "\n"
   ]
  },
  {
   "cell_type": "code",
   "execution_count": 24,
   "id": "8c14353e-b0f5-4a12-81c3-42871361c9e1",
   "metadata": {},
   "outputs": [
    {
     "data": {
      "text/plain": [
       "2"
      ]
     },
     "execution_count": 24,
     "metadata": {},
     "output_type": "execute_result"
    }
   ],
   "source": [
    "array4 =array(\"i\",[120,820,120,80,228])\n",
    "array4.count(120)"
   ]
  },
  {
   "cell_type": "code",
   "execution_count": 26,
   "id": "ce2159ea-b143-47e1-a9d6-c8acb228a15d",
   "metadata": {},
   "outputs": [
    {
     "name": "stdout",
     "output_type": "stream",
     "text": [
      "1\n",
      "4\n",
      "8\n",
      "9\n",
      "12\n",
      "20\n",
      "35\n",
      "75\n",
      "Access first three items individually\n",
      "1\n",
      "4\n",
      "20\n"
     ]
    }
   ],
   "source": [
    "#Write a Python program to create an array of 8 integers and display the array items. Access individual element through indexes.\n",
    "\n",
    "\n",
    "from array import *\n",
    "array_num = array('i', [1,4,8,9,12,20,35,75])\n",
    "for i in array_num:\n",
    "    print(i)\n",
    "#display the array items\n",
    "print(\"Access first three items individually\")\n",
    "#access individual through indexes\n",
    "print(array_num[0])\n",
    "print(array_num[1])\n",
    "print(array_num[5])"
   ]
  },
  {
   "cell_type": "code",
   "execution_count": 29,
   "id": "eb96fe8e-0e70-4ea2-9a47-b8b4533fed8e",
   "metadata": {},
   "outputs": [
    {
     "name": "stdout",
     "output_type": "stream",
     "text": [
      "array('i', [1, 4, 25, 36, 50, 1])\n"
     ]
    }
   ],
   "source": [
    "#Write a Python program to append a new item to the end of the array\n",
    "array1 = array(\"i\", [1,4,25,36,50])\n",
    "array1.append(1)\n",
    "print(array1)\n"
   ]
  },
  {
   "cell_type": "code",
   "execution_count": 30,
   "id": "c1c19e14-9e64-4adf-83d1-04538b63a985",
   "metadata": {},
   "outputs": [
    {
     "name": "stdout",
     "output_type": "stream",
     "text": [
      "Original array: array('i', [1, 4, 8, 9, 12, 20, 35, 75])\n",
      "Append 11 at the end of the array:\n",
      "New array: array('i', [1, 4, 8, 9, 12, 20, 35, 75, 11])\n"
     ]
    }
   ],
   "source": [
    "array1 = array(\"i\", [1,4,25,36,50])\n",
    "print(\"Original array: \"+str(array_num))\n",
    "print(\"Append 11 at the end of the array:\")\n",
    "array_num.append(11)\n",
    "print(\"New array: \"+str(array_num))"
   ]
  },
  {
   "cell_type": "code",
   "execution_count": 33,
   "id": "62b26ed5-feae-4e83-a4f4-217e18ca5dd1",
   "metadata": {},
   "outputs": [
    {
     "name": "stdout",
     "output_type": "stream",
     "text": [
      "Original array:array('i', [11, 75, 35, 20, 12, 9, 8, 4, 1])\n",
      "Reverse the order of the items:\n",
      "array('i', [1, 4, 8, 9, 12, 20, 35, 75, 11])\n"
     ]
    }
   ],
   "source": [
    "#Write a Python program to reverse the order of the items in the array.\n",
    "array1 = array(\"i\", [1,4,25,36,50])\n",
    "print(\"Original array:\" + str(array_num))\n",
    "array_num.reverse()\n",
    "print(\"Reverse the order of the items:\")\n",
    "print(str(array_num))\n",
    "\n"
   ]
  },
  {
   "cell_type": "code",
   "execution_count": 34,
   "id": "9d4ee199-1620-487d-a529-8139386ced88",
   "metadata": {},
   "outputs": [
    {
     "name": "stdout",
     "output_type": "stream",
     "text": [
      "Original array:array('i', [1, 4, 25, 36, 50])\n",
      "Length in bytes of one array item:4\n"
     ]
    }
   ],
   "source": [
    "#Write a Python program to get the length in bytes of one array item in the internal representation.\n",
    "array1 = array(\"i\", [1,4,25,36,50])\n",
    "print(\"Original array:\" +str(array1))\n",
    "print(\"Length in bytes of one array item:\" + str(array1.itemsize))\n"
   ]
  },
  {
   "cell_type": "code",
   "execution_count": 35,
   "id": "9c589b5f-ffdf-4495-8c71-26c8d746a039",
   "metadata": {},
   "outputs": [
    {
     "name": "stdout",
     "output_type": "stream",
     "text": [
      "Original array: array('i', [1, 4, 8, 9, 12, 20, 35, 75, 11])\n",
      "Current memory address and the length in elements of the buffer: (2204324199856, 9)\n",
      "The size of the memory buffer in bytes: 36\n"
     ]
    }
   ],
   "source": [
    "#Write a Python program to get the current memory address and the length in elements of the buffer used to hold an array's contents and also find the size of the memory buffer in bytes\n",
    "\n",
    "array1 = array(\"i\", [1,4,25,36,50])\n",
    "print(\"Original array: \"+str(array_num))\n",
    "print(\"Current memory address and the length in elements of the buffer: \"+str(array_num.buffer_info()))\n",
    "print(\"The size of the memory buffer in bytes: \"+str(array_num.buffer_info()[1] * array_num.itemsize))"
   ]
  },
  {
   "cell_type": "code",
   "execution_count": 2,
   "id": "123810ad-3091-4705-a589-3e1827994e68",
   "metadata": {},
   "outputs": [
    {
     "name": "stdout",
     "output_type": "stream",
     "text": [
      "Original array:array('i', [1, 4, 25, 36, 36, 36, 36, 36, 50])\n",
      "Number of occurrences of the number choosen:5\n"
     ]
    }
   ],
   "source": [
    "#Write a Python program to get the number of occurrences of a specified element in an array.\n",
    "from array import  *\n",
    "array7 = array(\"i\", [1,4,25,36,36,36,36,36,50])\n",
    "print(\"Original array:\"+str(array7))\n",
    "print(\"Number of occurrences of the number choosen:\"+str(array7.count(36)))\n"
   ]
  },
  {
   "cell_type": "code",
   "execution_count": 5,
   "id": "a42b00a8-cf95-4c6d-97f7-d249ed008512",
   "metadata": {},
   "outputs": [
    {
     "name": "stdout",
     "output_type": "stream",
     "text": [
      "Original array:array('i', [1, 4, 25, 48, 50])\n",
      "Number of occurrences of the number choosen:1\n"
     ]
    }
   ],
   "source": [
    "array_8 = array(\"i\", [1,4,25,48,50])\n",
    "print(\"Original array:\"+str(array_8))\n",
    "print(\"Number of occurrences of the number choosen:\"+str(array_8.count(48)))\n"
   ]
  },
  {
   "cell_type": "code",
   "execution_count": 7,
   "id": "0f59d1c0-a206-4afa-87cc-93e589a86d62",
   "metadata": {},
   "outputs": [
    {
     "name": "stdout",
     "output_type": "stream",
     "text": [
      "Original array:array('i', [1, 4, 25, 48, 50])\n",
      "Extend array:array('i', [1, 4, 25, 48, 50, 1, 4, 25, 48, 50])\n"
     ]
    }
   ],
   "source": [
    "#Write a Python program to append items from inerrable to the end of the array.\n",
    "\n",
    "array_8 = array(\"i\", [1,4,25,48,50])\n",
    "print(\"Original array:\"+str(array_8))\n",
    "array_8.extend(array_8)\n",
    "      \n",
    "print(\"Extend array:\"+str(array_8))\n",
    "\n"
   ]
  },
  {
   "cell_type": "code",
   "execution_count": 8,
   "id": "6fc80443-10b2-47a3-9403-74ed314ab85f",
   "metadata": {},
   "outputs": [
    {
     "name": "stdout",
     "output_type": "stream",
     "text": [
      "Bytes to String: \n",
      "b'w3resource'\n"
     ]
    }
   ],
   "source": [
    "#Write a Python program to convert an array to an array of machine values and return the bytes representation.\n",
    "\n",
    "print(\"Bytes to String: \")\n",
    "x = array('b', [119, 51, 114, 101,  115, 111, 117, 114, 99, 101])\n",
    "s = x.tobytes()\n",
    "print(s)\n",
    "\n"
   ]
  },
  {
   "cell_type": "code",
   "execution_count": 11,
   "id": "ae65001a-308f-4b15-b83b-9bcbd3b33040",
   "metadata": {},
   "outputs": [
    {
     "name": "stdout",
     "output_type": "stream",
     "text": [
      "Items in the list: [1, 2, 6, -8]\n"
     ]
    },
    {
     "ename": "TypeError",
     "evalue": "can only concatenate str (not \"list\") to str",
     "output_type": "error",
     "traceback": [
      "\u001b[1;31m---------------------------------------------------------------------------\u001b[0m",
      "\u001b[1;31mTypeError\u001b[0m                                 Traceback (most recent call last)",
      "\u001b[1;32m~\\AppData\\Local\\Temp\\ipykernel_17000\\4293073560.py\u001b[0m in \u001b[0;36m<module>\u001b[1;34m\u001b[0m\n\u001b[0;32m      2\u001b[0m \u001b[0marray_num\u001b[0m \u001b[1;33m=\u001b[0m \u001b[0marray\u001b[0m\u001b[1;33m(\u001b[0m\u001b[1;34m'i'\u001b[0m\u001b[1;33m,\u001b[0m \u001b[1;33m[\u001b[0m\u001b[1;33m]\u001b[0m\u001b[1;33m)\u001b[0m\u001b[1;33m\u001b[0m\u001b[1;33m\u001b[0m\u001b[0m\n\u001b[0;32m      3\u001b[0m \u001b[0mprint\u001b[0m\u001b[1;33m(\u001b[0m\u001b[1;34m\"Items in the list: \"\u001b[0m \u001b[1;33m+\u001b[0m \u001b[0mstr\u001b[0m\u001b[1;33m(\u001b[0m\u001b[0mnum_list\u001b[0m\u001b[1;33m)\u001b[0m\u001b[1;33m)\u001b[0m\u001b[1;33m\u001b[0m\u001b[1;33m\u001b[0m\u001b[0m\n\u001b[1;32m----> 4\u001b[1;33m \u001b[0mprint\u001b[0m\u001b[1;33m(\u001b[0m\u001b[1;34m\"Append items from the list: \"\u001b[0m \u001b[1;33m+\u001b[0m \u001b[1;33m(\u001b[0m\u001b[0mnum_list\u001b[0m\u001b[1;33m)\u001b[0m\u001b[1;33m)\u001b[0m\u001b[1;33m\u001b[0m\u001b[1;33m\u001b[0m\u001b[0m\n\u001b[0m\u001b[0;32m      5\u001b[0m \u001b[0marray_num\u001b[0m\u001b[1;33m.\u001b[0m\u001b[0mfromlist\u001b[0m\u001b[1;33m(\u001b[0m\u001b[0mnum_list\u001b[0m\u001b[1;33m)\u001b[0m\u001b[1;33m\u001b[0m\u001b[1;33m\u001b[0m\u001b[0m\n\u001b[0;32m      6\u001b[0m \u001b[0mprint\u001b[0m\u001b[1;33m(\u001b[0m\u001b[1;34m\"Items in the array: \"\u001b[0m\u001b[1;33m+\u001b[0m\u001b[0mstr\u001b[0m\u001b[1;33m(\u001b[0m\u001b[0marray_num\u001b[0m\u001b[1;33m)\u001b[0m\u001b[1;33m)\u001b[0m\u001b[1;33m\u001b[0m\u001b[1;33m\u001b[0m\u001b[0m\n",
      "\u001b[1;31mTypeError\u001b[0m: can only concatenate str (not \"list\") to str"
     ]
    }
   ],
   "source": [
    "\"\"\"Find a pair with the given sum in an array\n",
    "Google Translate Icon\n",
    "Given an unsorted integer array, find a pair with the given sum in it.\"\"\"\n",
    "\n",
    "\n"
   ]
  }
 ],
 "metadata": {
  "kernelspec": {
   "display_name": "Python 3 (ipykernel)",
   "language": "python",
   "name": "python3"
  },
  "language_info": {
   "codemirror_mode": {
    "name": "ipython",
    "version": 3
   },
   "file_extension": ".py",
   "mimetype": "text/x-python",
   "name": "python",
   "nbconvert_exporter": "python",
   "pygments_lexer": "ipython3",
   "version": "3.9.13"
  }
 },
 "nbformat": 4,
 "nbformat_minor": 5
}
