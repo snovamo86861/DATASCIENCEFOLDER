{
 "cells": [
  {
   "cell_type": "raw",
   "id": "9b17b132-6770-468a-9ff8-85b7936adeba",
   "metadata": {},
   "source": [
    "It is New Year's Day and people are in line for the Wonderland rollercoaster ride. Each person wears a sticker indicating their initial position in the queue from  to . Any person can bribe the person directly in front of them to swap positions, but they still wear their original sticker. One person can bribe at most two others.\n",
    "\n",
    "Determine the minimum number of bribes that took place to get to a given queue order. Print the number of bribes, or, if anyone has bribed more than two people, print Too chaotic."
   ]
  },
  {
   "cell_type": "raw",
   "id": "70bd78a9-eff9-49da-b1ba-56a58dd5dbde",
   "metadata": {},
   "source": [
    "Function Description\n",
    "\n",
    "Complete the function minimumBribes in the editor below.\n",
    "\n",
    "minimumBribes has the following parameter(s):\n",
    "\n",
    "int q[n]: the positions of the people after all bribes\n",
    "Returns\n",
    "\n",
    "No value is returned. Print the minimum number of bribes necessary or Too chaotic if someone has bribed more than 2 people.\n",
    "Input Format\n",
    "\n",
    "The first line contains an integer , the number of test cases.\n",
    "\n",
    "Each of the next  pairs of lines are as follows:\n",
    "- The first line contains an integer , the number of people in the queue\n",
    "- The second line has  space-separated integers describing the final state of the queue."
   ]
  },
  {
   "cell_type": "code",
   "execution_count": 1,
   "id": "8f2e5b6a-a09a-4e6a-b476-0b959885b6e2",
   "metadata": {},
   "outputs": [
    {
     "name": "stdout",
     "output_type": "stream",
     "text": [
      "Too chaotic\n",
      "None\n",
      "Too chaotic\n",
      "None\n",
      "2\n",
      "None\n",
      "0\n",
      "None\n",
      "4\n",
      "None\n",
      "0\n",
      "None\n",
      "Too chaotic\n",
      "None\n"
     ]
    }
   ],
   "source": [
    "def minimumBribes(q):\n",
    "    total_bribes = 0\n",
    "    swaps = 1\n",
    "    # If any person is more than 3 places ahead of where they should be,\n",
    "    # too many bribes have taken place.\n",
    "    for index, item in enumerate(q):\n",
    "        if item > index + 3:\n",
    "            print(\"Too chaotic\")\n",
    "            return\n",
    "\n",
    "    # Finally! A use for bubblesort!\n",
    "    while (swaps != 0):\n",
    "        swaps = 0\n",
    "        for i in range(len(q) - 1):\n",
    "            if q[i] > q[i + 1]:\n",
    "                swaps += 1\n",
    "                q[i], q[i + 1] = q[i + 1], q[i]\n",
    "                total_bribes += 1\n",
    "    print(total_bribes)\n",
    "\n",
    "#print(minimumBribes([1,2,3,4,5]))\n",
    "print(minimumBribes([5,3,4,2,1]))\n",
    "print(minimumBribes([4,2,1,5,3]))\n",
    "print(minimumBribes([2,1,5,3.4,]))\n",
    "print(minimumBribes([1,2,3,4,5]))\n",
    "print(minimumBribes([2,3,4,5,1]))\n",
    "print(minimumBribes([1,2,3,4,5,6,7]))\n",
    "print(minimumBribes([4,3,7,1,2,5,6]))\n"
   ]
  },
  {
   "cell_type": "code",
   "execution_count": null,
   "id": "dfe43b99-5f58-4681-9451-cc76912cd135",
   "metadata": {},
   "outputs": [],
   "source": []
  }
 ],
 "metadata": {
  "kernelspec": {
   "display_name": "Python 3 (ipykernel)",
   "language": "python",
   "name": "python3"
  },
  "language_info": {
   "codemirror_mode": {
    "name": "ipython",
    "version": 3
   },
   "file_extension": ".py",
   "mimetype": "text/x-python",
   "name": "python",
   "nbconvert_exporter": "python",
   "pygments_lexer": "ipython3",
   "version": "3.9.13"
  }
 },
 "nbformat": 4,
 "nbformat_minor": 5
}
