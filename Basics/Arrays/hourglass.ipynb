{
 "cells": [
  {
   "cell_type": "code",
   "execution_count": 1,
   "id": "99564aeb-03bb-408f-aa1a-4773e437f86a",
   "metadata": {},
   "outputs": [],
   "source": [
    "def hourglassSum(arr):\n",
    "    hg_vals = []\n",
    "    for i in range(4):\n",
    "        for j in range(4):\n",
    "            top = arr[i][j] + arr[i][j+1] + arr[i][j+2]\n",
    "            middle = arr[i+1][j+1]\n",
    "            bottom = arr[i+2][j] + arr[i+2][j+1] + arr[i+2][j+2]\n",
    "            hg_vals.append(top+middle+bottom)\n",
    "    return max(hg_vals)    \n",
    "            "
   ]
  }
 ],
 "metadata": {
  "kernelspec": {
   "display_name": "Python 3 (ipykernel)",
   "language": "python",
   "name": "python3"
  },
  "language_info": {
   "codemirror_mode": {
    "name": "ipython",
    "version": 3
   },
   "file_extension": ".py",
   "mimetype": "text/x-python",
   "name": "python",
   "nbconvert_exporter": "python",
   "pygments_lexer": "ipython3",
   "version": "3.9.13"
  }
 },
 "nbformat": 4,
 "nbformat_minor": 5
}
