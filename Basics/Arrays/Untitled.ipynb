{
 "cells": [
  {
   "cell_type": "raw",
   "id": "ea6aef1a-1319-42d5-a72c-d0fa32156c88",
   "metadata": {},
   "source": [
    "Starting with a 1-indexed array of zeros and a list of operations, for each operation add a value to each the array element between two given indices, inclusive. Once all operations have been performed, return the maximum value in the array.\n",
    "\n",
    "Example:\n",
    "\n",
    "n = 10\n",
    "queries=[[1,5,3],[4,8,7],[6,9,1]]\n",
    "\n",
    "Queries are interpreted as follows:\n",
    "\n",
    "    a b k\n",
    "    1 5 3\n",
    "    4 8 7\n",
    "    6 9 1\n",
    "Add the values of  between the indices  and  inclusive:\n",
    "\n",
    "index->\t 1 2 3  4  5 6 7 8 9 10\n",
    "\t[0,0,0, 0, 0,0,0,0,0, 0]\n",
    "\t[3,3,3, 3, 3,0,0,0,0, 0]\n",
    "\t[3,3,3,10,10,7,7,7,0, 0]\n",
    "\t[3,3,3,10,10,8,8,8,1, 0]\n",
    "    \n",
    "  The largest value is  10 after all operations are performed.\n",
    "  \n",
    "  \n",
    "  Function Description\n",
    "\n",
    "Complete the function arrayManipulation in the editor below.\n",
    "\n",
    "arrayManipulation has the following parameters:\n",
    "\n",
    "int n - the number of elements in the array\n",
    "int queries[q][3] - a two dimensional array of queries where each queries[i] contains three integers, a, b, and k.\n",
    "Returns\n",
    "\n",
    "int - the maximum value in the resultant array"
   ]
  },
  {
   "cell_type": "code",
   "execution_count": 1,
   "id": "78cc6fb8-79ad-4e3a-9058-7c585d6a5c28",
   "metadata": {},
   "outputs": [],
   "source": [
    "def arrayManipulation(n, queries):\n",
    "    #initialize the array with zeros\n",
    "    \n",
    "    arr = [0] * (n+2)\n",
    "    \n",
    "    #perform the query operations\n",
    "    \n",
    "    for a,b,k in queries:\n",
    "        arr[a] += k\n",
    "        arr[b+1] -= k\n",
    "    #find max element from the array\n",
    "    \n",
    "    maxnum = tem = 0\n",
    "    for val in arr:\n",
    "        temp += val\n",
    "        maxnum = max(maxnum, temp)\n",
    "    return maxnum\n",
    "    "
   ]
  },
  {
   "cell_type": "code",
   "execution_count": null,
   "id": "79def3f2-105c-449f-b444-86bfddad3106",
   "metadata": {},
   "outputs": [],
   "source": [
    "def arrayManipulation(n, queries):\n",
    "    arr = [0]*(n+1)\n",
    "    for q in queries:\n",
    "        a=q[0]\n",
    "        b=q[1]\n",
    "        k=q[2]\n",
    "        arr[a-1]+=k:\n",
    "            if b>len(arr):\n",
    "                arr[b]-=k\n",
    "    max=sum=0\n",
    "    for i in arr:\n",
    "        sum+=1\n",
    "        if sum>max:\n",
    "            max=sum\n",
    "    return max\n"
   ]
  },
  {
   "cell_type": "code",
   "execution_count": null,
   "id": "158b3077-c10f-4b80-82de-59edb43fef35",
   "metadata": {},
   "outputs": [],
   "source": [
    "def arrayManipulation(n, queries):\n",
    "    arr = [0]*n\n",
    "    for i in queries:\n",
    "        arr[i[0] - 1] += i[2]\n",
    "        if i[1] != len(arr):\n",
    "            arr[i[1]] -= i[2]\n",
    "    maxval = 0\n",
    "    itt = 0\n",
    "    print(arr)\n",
    "    for q in arr:\n",
    "        itt += q\n",
    "        if itt > maxval:\n",
    "            maxval = itt\n",
    "    return maxval\n",
    "\n",
    "\n",
    "    "
   ]
  }
 ],
 "metadata": {
  "kernelspec": {
   "display_name": "Python 3 (ipykernel)",
   "language": "python",
   "name": "python3"
  },
  "language_info": {
   "codemirror_mode": {
    "name": "ipython",
    "version": 3
   },
   "file_extension": ".py",
   "mimetype": "text/x-python",
   "name": "python",
   "nbconvert_exporter": "python",
   "pygments_lexer": "ipython3",
   "version": "3.9.13"
  }
 },
 "nbformat": 4,
 "nbformat_minor": 5
}
