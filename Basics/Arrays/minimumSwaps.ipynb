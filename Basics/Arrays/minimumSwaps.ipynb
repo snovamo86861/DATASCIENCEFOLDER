{
 "cells": [
  {
   "cell_type": "raw",
   "id": "006accf7-8115-4890-946a-792527909b0f",
   "metadata": {},
   "source": [
    "\n",
    "\n",
    "You are given an unordered array consisting of consecutive integers  [1, 2, 3, ..., n] without any duplicates. You are allowed to swap any two elements. Find the minimum number of swaps required to sort the array in ascending order.\n",
    "\n",
    "Example\n",
    "arr = [7,13,2,1,4,5,6]\n",
    "\n",
    "Perform the following steps:\n",
    "\n",
    "Function Description\n",
    "\n",
    "Complete the function minimumSwaps in the editor below.\n",
    "\n",
    "minimumSwaps has the following parameter(s):\n",
    "\n",
    "int arr[n]: an unordered array of integers\n",
    "Returns\n",
    "\n",
    "int: the minimum number of swaps to sort the array\n",
    "Input Format\n",
    "\n",
    "The first line contains an integer, , the size of .\n",
    "The second line contains  space-separated integers .\n"
   ]
  },
  {
   "cell_type": "code",
   "execution_count": 2,
   "id": "4b4bd9af-28d3-4fd8-a1e3-4415a4d2e768",
   "metadata": {},
   "outputs": [
    {
     "name": "stdout",
     "output_type": "stream",
     "text": [
      "3\n"
     ]
    }
   ],
   "source": [
    "def minimumSwaps(arr):\n",
    "    minSwap = 0\n",
    "    for i in range(len(arr)):\n",
    "        while arr[i] != i+1:\n",
    "            temp = arr[i]\n",
    "            arr[i] = arr[temp-1]\n",
    "            arr[temp-1] = temp\n",
    "            minSwap += 1\n",
    "    return minSwap\n",
    "\n",
    "arr = [4, 3, 1, 2]\n",
    "#arr1= [7]\n",
    "#arr2 = [1, 3, 5, 2, 4, 6, 7]\n",
    "print(minimumSwaps(arr))\n",
    "#print(minimumSwaps(arr1))\n",
    "#print(minimumSwaps(arr2))"
   ]
  },
  {
   "cell_type": "code",
   "execution_count": null,
   "id": "a69ff2d5-7fda-485c-af7d-53d59c753eeb",
   "metadata": {},
   "outputs": [],
   "source": []
  }
 ],
 "metadata": {
  "kernelspec": {
   "display_name": "Python 3 (ipykernel)",
   "language": "python",
   "name": "python3"
  },
  "language_info": {
   "codemirror_mode": {
    "name": "ipython",
    "version": 3
   },
   "file_extension": ".py",
   "mimetype": "text/x-python",
   "name": "python",
   "nbconvert_exporter": "python",
   "pygments_lexer": "ipython3",
   "version": "3.9.13"
  }
 },
 "nbformat": 4,
 "nbformat_minor": 5
}
