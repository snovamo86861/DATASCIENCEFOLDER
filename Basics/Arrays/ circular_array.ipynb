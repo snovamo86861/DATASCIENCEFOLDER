{
 "cells": [
  {
   "cell_type": "raw",
   "id": "68f7c2ae-3c42-41aa-901b-5d2710420996",
   "metadata": {},
   "source": [
    "Function Description\n",
    "\n",
    "Complete the function rotLeft in the editor below.\n",
    "\n",
    "rotLeft has the following parameter(s):\n",
    "\n",
    "int a[n]: the array to rotate\n",
    "int d: the number of rotations\n",
    "Returns\n",
    "\n",
    "int a'[n]: the rotated array"
   ]
  },
  {
   "cell_type": "code",
   "execution_count": 1,
   "id": "b8e0c21b-f9e3-4f04-954a-cbffbb7adfee",
   "metadata": {},
   "outputs": [],
   "source": [
    "def rotleft(a,d):\n",
    "    for i in range (d):\n",
    "        temp = a[0]\n",
    "        a.pop(0)\n",
    "        a.append(temp)\n",
    "    return a\n",
    "        \n"
   ]
  }
 ],
 "metadata": {
  "kernelspec": {
   "display_name": "Python 3 (ipykernel)",
   "language": "python",
   "name": "python3"
  },
  "language_info": {
   "codemirror_mode": {
    "name": "ipython",
    "version": 3
   },
   "file_extension": ".py",
   "mimetype": "text/x-python",
   "name": "python",
   "nbconvert_exporter": "python",
   "pygments_lexer": "ipython3",
   "version": "3.9.13"
  }
 },
 "nbformat": 4,
 "nbformat_minor": 5
}
