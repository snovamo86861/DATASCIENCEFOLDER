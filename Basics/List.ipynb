{
 "cells": [
  {
   "cell_type": "code",
   "execution_count": 1,
   "id": "4bd9b081-0b3d-4d19-8df0-9db094975750",
   "metadata": {},
   "outputs": [
    {
     "name": "stdout",
     "output_type": "stream",
     "text": [
      "156\n"
     ]
    }
   ],
   "source": [
    "# Write a Python program to sum all the items\n",
    "\n",
    "item=[25,36,-10,36,48,5,16]\n",
    "sum = 0\n",
    "\n",
    "for i in item:\n",
    "    sum+= i\n",
    "print(sum)\n"
   ]
  },
  {
   "cell_type": "code",
   "execution_count": 4,
   "id": "5f240561-5f10-4779-9425-f48b304a4d23",
   "metadata": {},
   "outputs": [
    {
     "name": "stdout",
     "output_type": "stream",
     "text": [
      "155520\n"
     ]
    }
   ],
   "source": [
    "#Write a Python program to multiply all the items in a list\n",
    "items=[12,45,36,8]\n",
    "multiply=1\n",
    "\n",
    "for i  in items:\n",
    "    multiply*= i\n",
    "print(multiply)\n",
    "\n",
    "\n",
    " "
   ]
  },
  {
   "cell_type": "code",
   "execution_count": 5,
   "id": "5a100250-99c0-48cc-a97e-f12a8c2b688e",
   "metadata": {},
   "outputs": [
    {
     "name": "stdout",
     "output_type": "stream",
     "text": [
      "Largest Number : 34\n"
     ]
    }
   ],
   "source": [
    "#Write a Python program to get the largest number from a list\n",
    "a=[1,7,10,34,2,8]\n",
    "\"\"\"\n",
    "print(\"Largest Number :\",max(a))\n",
    "\"\"\"\n",
    "max = a[ 0 ]\n",
    "for i in a:\n",
    "\tif i > max:\n",
    "\t\tmax = i\n",
    "print(\"Largest Number :\",max)\n",
    " "
   ]
  },
  {
   "cell_type": "code",
   "execution_count": 7,
   "id": "78d02c93-1020-4018-b244-e63d1601ff24",
   "metadata": {},
   "outputs": [
    {
     "name": "stdout",
     "output_type": "stream",
     "text": [
      "Largest Number: 45\n"
     ]
    }
   ],
   "source": [
    "#Write a Python program to get the largest number from a list\n",
    "largest = [12,45,36,8]\n",
    "max = largest[0]\n",
    "for i in largest:\n",
    "    if i > max:\n",
    "        max = i\n",
    "print(\"Largest Number:\", max)"
   ]
  },
  {
   "cell_type": "code",
   "execution_count": 10,
   "id": "cffb9c1d-a6af-4086-954a-d6f2faa7a27c",
   "metadata": {},
   "outputs": [
    {
     "name": "stdout",
     "output_type": "stream",
     "text": [
      "Smallest Number: 8\n"
     ]
    }
   ],
   "source": [
    "#Write a Python program to get the smallest number from a list\n",
    "\n",
    "smallest = [12,45,36,8]\n",
    "min_num = smallest[0]\n",
    "\n",
    "for i in smallest:\n",
    "    if i < min_num:\n",
    "        min_num = i\n",
    "print(\"Smallest Number:\", min_num)\n"
   ]
  },
  {
   "cell_type": "code",
   "execution_count": 32,
   "id": "8174f7ac-eec6-4803-8b52-e380e8f13910",
   "metadata": {},
   "outputs": [
    {
     "name": "stdout",
     "output_type": "stream",
     "text": [
      "1\n"
     ]
    }
   ],
   "source": [
    "#Write a Python program to check the first and last character are same from a given list of strings\n",
    "list= [\"a\",\"3643\",\"b\",\"c\",\"apple\",\"car\",\"56822\"]\n",
    "check = 0\n",
    "for i in list:\n",
    "    if len(i) > 1 and i[0] == i[-1]:\n",
    "        check+= 1\n",
    "print(check)\n"
   ]
  },
  {
   "cell_type": "code",
   "execution_count": null,
   "id": "b79ebf68-9c85-4c1b-863d-5bd1158047f1",
   "metadata": {},
   "outputs": [],
   "source": []
  },
  {
   "cell_type": "code",
   "execution_count": 20,
   "id": "fc6a48f8-4ad4-4ecc-8cf5-fe29b6fe4d78",
   "metadata": {},
   "outputs": [
    {
     "name": "stdout",
     "output_type": "stream",
     "text": [
      "2\n"
     ]
    }
   ],
   "source": []
  },
  {
   "cell_type": "code",
   "execution_count": null,
   "id": "a3cbdd8e-08cb-4a14-b847-d024d42441db",
   "metadata": {},
   "outputs": [],
   "source": []
  }
 ],
 "metadata": {
  "kernelspec": {
   "display_name": "Python 3 (ipykernel)",
   "language": "python",
   "name": "python3"
  },
  "language_info": {
   "codemirror_mode": {
    "name": "ipython",
    "version": 3
   },
   "file_extension": ".py",
   "mimetype": "text/x-python",
   "name": "python",
   "nbconvert_exporter": "python",
   "pygments_lexer": "ipython3",
   "version": "3.9.13"
  }
 },
 "nbformat": 4,
 "nbformat_minor": 5
}
