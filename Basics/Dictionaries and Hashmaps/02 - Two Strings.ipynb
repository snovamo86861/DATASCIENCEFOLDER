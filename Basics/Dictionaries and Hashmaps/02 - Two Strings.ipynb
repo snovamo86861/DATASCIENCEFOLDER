{
 "cells": [
  {
   "cell_type": "markdown",
   "id": "6412f0e7-b368-4018-886e-9b60781879fc",
   "metadata": {},
   "source": [
    "Given two strings, determine if they share a common substring. A substring may be as small as one character."
   ]
  },
  {
   "cell_type": "code",
   "execution_count": null,
   "id": "4d7c93cc-42ca-450f-a871-fa3b5ec8488a",
   "metadata": {},
   "outputs": [],
   "source": [
    "\"\"\"Function Description\n",
    "\n",
    "Complete the function twoStrings in the editor below.\n",
    "\n",
    "twoStrings has the following parameter(s):\n",
    "\n",
    "string s1: a string\n",
    "string s2: another string\n",
    "Returns\n",
    "\n",
    "string: either YES or NO\"\"\n",
    "\n",
    "\n",
    "\n",
    "\n"
   ]
  },
  {
   "cell_type": "code",
   "execution_count": 13,
   "id": "8c2c4c0e-54ed-414c-87eb-21b91d280c2d",
   "metadata": {},
   "outputs": [
    {
     "data": {
      "text/plain": [
       "'YES'"
      ]
     },
     "execution_count": 13,
     "metadata": {},
     "output_type": "execute_result"
    }
   ],
   "source": [
    "def twoStrings(s1, s2):\n",
    "    #use set\n",
    "    character1 = set(s1)\n",
    "    character2 = set(s2)\n",
    "    \n",
    "    #use the intersection() method returns a set that contains the similarity between two or more sets.\n",
    "    if set.intersection( character1,character2):\n",
    "        return \"YES\"\n",
    "    return \"NO\"\n",
    "\n",
    "\n",
    "\n",
    "\n",
    "twoStrings(\"casa\",\"asac\")\n",
    "\n",
    "\n"
   ]
  },
  {
   "cell_type": "code",
   "execution_count": null,
   "id": "8b629d3b-5fcf-4971-ba60-cb8705fedb3d",
   "metadata": {},
   "outputs": [],
   "source": []
  }
 ],
 "metadata": {
  "kernelspec": {
   "display_name": "Python 3 (ipykernel)",
   "language": "python",
   "name": "python3"
  },
  "language_info": {
   "codemirror_mode": {
    "name": "ipython",
    "version": 3
   },
   "file_extension": ".py",
   "mimetype": "text/x-python",
   "name": "python",
   "nbconvert_exporter": "python",
   "pygments_lexer": "ipython3",
   "version": "3.9.13"
  }
 },
 "nbformat": 4,
 "nbformat_minor": 5
}
