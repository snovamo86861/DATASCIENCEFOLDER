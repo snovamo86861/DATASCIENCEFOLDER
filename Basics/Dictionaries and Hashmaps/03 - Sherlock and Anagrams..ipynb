{
 "cells": [
  {
   "cell_type": "raw",
   "id": "678f5050-a229-4543-a98e-1fd3cfa43a40",
   "metadata": {},
   "source": [
    "\"\"\"Two strings are anagrams of each other if the letters of one string can be rearranged to form the other string. Given a string, find the number of pairs of substrings of the string that are anagrams of each other.\n",
    "Function Description\n",
    "\n",
    "Complete the function sherlockAndAnagrams in the editor below.\n",
    "\n",
    "sherlockAndAnagrams has the following parameter(s):\n",
    "\n",
    "string s: a string\n",
    "Returns\n",
    "\n",
    "int: the number of unordered anagrammatic pairs of substrings in s \"\"\"\n"
   ]
  },
  {
   "cell_type": "code",
   "execution_count": 4,
   "id": "e0bdbe3d-4f3b-4af1-950b-096774edd145",
   "metadata": {},
   "outputs": [],
   "source": [
    "def sherlockAndAnagrams(s):\n",
    "    \n",
    "    # Get all substrings as a list of sorted string\n",
    "    sorted_substrings = []\n",
    "    # Get count of each sorted substring\n",
    "    count_dict = {}\n",
    "    for i in range(len(s)):\n",
    "        for j in range(i, len(s)):\n",
    "            x = \"\".join(sorted(s[i : j + 1]))\n",
    "            if x not in count_dict:\n",
    "                count_dict[x] = 1\n",
    "            else:\n",
    "                count_dict[x] += 1            \n",
    "            sorted_substrings.append(x)\n",
    "    # Get count of anagram pairs\n",
    "    count = 0\n",
    "    for x in count_dict:\n",
    "        if count_dict[x] > 1:\n",
    "            count += count_dict[x] * (count_dict[x] - 1) // 2\n",
    "    return count\n",
    "    \n",
    "\n",
    "    "
   ]
  }
 ],
 "metadata": {
  "kernelspec": {
   "display_name": "Python 3 (ipykernel)",
   "language": "python",
   "name": "python3"
  },
  "language_info": {
   "codemirror_mode": {
    "name": "ipython",
    "version": 3
   },
   "file_extension": ".py",
   "mimetype": "text/x-python",
   "name": "python",
   "nbconvert_exporter": "python",
   "pygments_lexer": "ipython3",
   "version": "3.9.13"
  }
 },
 "nbformat": 4,
 "nbformat_minor": 5
}
