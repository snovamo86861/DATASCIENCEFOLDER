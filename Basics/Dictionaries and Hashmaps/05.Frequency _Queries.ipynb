{
 "cells": [
  {
   "cell_type": "code",
   "execution_count": 2,
   "id": "d29dd968-b22c-4762-bd31-afe2191803fe",
   "metadata": {},
   "outputs": [],
   "source": [
    "# ========================\n",
    "#       Information\n",
    "# ========================\n",
    "\n",
    "# Direct Link: https://www.hackerrank.com/challenges/frequency-queries/problem\n",
    "# Difficulty: Medium\n",
    "# Max Score: 40\n",
    "# Language: Python\n",
    "\n",
    "# ========================\n",
    "#         Solution\n",
    "# ========================\n",
    "\n",
    "import math\n",
    "import os\n",
    "import random\n",
    "import re\n",
    "import sys\n",
    "from collections import Counter\n",
    "\n",
    "# Complete the freqQuery function below.\n",
    "def freqQuery(queries):\n",
    "    count = dict()\n",
    "    result = list()\n",
    "\n",
    "    for q in queries:\n",
    "        if q[0] == 1:\n",
    "            try:\n",
    "                count[q[1]] += 1\n",
    "            except:\n",
    "                count[q[1]] = 1\n",
    "        elif q[0] == 2:\n",
    "            try:\n",
    "                count[q[1]] -= 1\n",
    "                if count[q[1]] == 0:\n",
    "                    del count[q[1]]\n",
    "            except:\n",
    "                continue\n",
    "        else:\n",
    "            if q[1] in set(count.values()):\n",
    "                result.append('1')\n",
    "            else:\n",
    "                result.append('0')\n",
    "    return result\n"
   ]
  }
 ],
 "metadata": {
  "kernelspec": {
   "display_name": "Python 3 (ipykernel)",
   "language": "python",
   "name": "python3"
  },
  "language_info": {
   "codemirror_mode": {
    "name": "ipython",
    "version": 3
   },
   "file_extension": ".py",
   "mimetype": "text/x-python",
   "name": "python",
   "nbconvert_exporter": "python",
   "pygments_lexer": "ipython3",
   "version": "3.9.13"
  }
 },
 "nbformat": 4,
 "nbformat_minor": 5
}
