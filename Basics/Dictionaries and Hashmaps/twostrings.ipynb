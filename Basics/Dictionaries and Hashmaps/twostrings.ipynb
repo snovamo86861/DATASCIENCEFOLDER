{
 "cells": [
  {
   "cell_type": "markdown",
   "id": "6412f0e7-b368-4018-886e-9b60781879fc",
   "metadata": {},
   "source": [
    "Given two strings, determine if they share a common substring. A substring may be as small as one character."
   ]
  },
  {
   "cell_type": "code",
   "execution_count": null,
   "id": "4d7c93cc-42ca-450f-a871-fa3b5ec8488a",
   "metadata": {},
   "outputs": [],
   "source": [
    "\"\"\"Function Description\n",
    "\n",
    "Complete the function twoStrings in the editor below.\n",
    "\n",
    "twoStrings has the following parameter(s):\n",
    "\n",
    "string s1: a string\n",
    "string s2: another string\n",
    "Returns\n",
    "\n",
    "string: either YES or NO\"\"\n",
    "\n",
    "\n",
    "\n",
    "\n"
   ]
  },
  {
   "cell_type": "code",
   "execution_count": 9,
   "id": "8c2c4c0e-54ed-414c-87eb-21b91d280c2d",
   "metadata": {},
   "outputs": [
    {
     "ename": "SyntaxError",
     "evalue": "unexpected EOF while parsing (2862693197.py, line 16)",
     "output_type": "error",
     "traceback": [
      "\u001b[1;36m  File \u001b[1;32m\"C:\\Users\\snova\\AppData\\Local\\Temp\\ipykernel_3716\\2862693197.py\"\u001b[1;36m, line \u001b[1;32m16\u001b[0m\n\u001b[1;33m    \u001b[0m\n\u001b[1;37m    ^\u001b[0m\n\u001b[1;31mSyntaxError\u001b[0m\u001b[1;31m:\u001b[0m unexpected EOF while parsing\n"
     ]
    }
   ],
   "source": [
    "def twoStrings(s1, s2):\n",
    "    #use set\n",
    "    character1 = set(s1)\n",
    "    character2 = set(s2)\n",
    "    \n",
    "    #use the intersection() method returns a set that contains the similarity between two or more sets.\n",
    "    if set.intersection(m1,m2):\n",
    "        return \"YES\"\n",
    "    return \"NO\"\n",
    "\n",
    "\n",
    "\n",
    "\n",
    "print(twoStrings(\"casa\",\"asac\")\n",
    "\n",
    "\n"
   ]
  }
 ],
 "metadata": {
  "kernelspec": {
   "display_name": "Python 3 (ipykernel)",
   "language": "python",
   "name": "python3"
  },
  "language_info": {
   "codemirror_mode": {
    "name": "ipython",
    "version": 3
   },
   "file_extension": ".py",
   "mimetype": "text/x-python",
   "name": "python",
   "nbconvert_exporter": "python",
   "pygments_lexer": "ipython3",
   "version": "3.9.13"
  }
 },
 "nbformat": 4,
 "nbformat_minor": 5
}
