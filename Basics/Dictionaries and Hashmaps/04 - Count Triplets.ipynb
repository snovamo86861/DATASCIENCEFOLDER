{
 "cells": [
  {
   "cell_type": "raw",
   "id": "a9d1c5d9-1e02-435b-b299-dc7c273331db",
   "metadata": {},
   "source": [
    "\"\"\"A geometric progression is a sequence of numbers where each term after the first is found by multiplying the previous one by a fixed, non-zero number called the common ratio. For example, sequence 2, 6, 18, 54,… is a geometric progression with a common ratio of 3.\"\"\""
   ]
  },
  {
   "cell_type": "code",
   "execution_count": 14,
   "id": "728c103e-2ad0-48d2-a2ed-5c265d8422de",
   "metadata": {},
   "outputs": [
    {
     "name": "stdout",
     "output_type": "stream",
     "text": [
      "1\n"
     ]
    }
   ],
   "source": [
    "#arr: n array of integers\n",
    "#r: the common ratio\n",
    "def countTriples(arr, r):\n",
    "    result = 0\n",
    "    num1,num2 = {}, {}\n",
    "    \n",
    "    for i in arr:\n",
    "        ra = int(i/r)\n",
    "        if ra > 0 and  ra in num1:\n",
    "            rra = int(ra/r)\n",
    "            if rra > 0 and(rra,ra) in num2:\n",
    "                result += num2[(rra,ra)]\n",
    "            if (ra, i) in num2:\n",
    "                num2[(ra,i)] += num1[ra]\n",
    "            else:\n",
    "                num2[(ra,a)] = num1[ra]\n",
    "        if a in num1:\n",
    "            num[i] += 1\n",
    "        else:\n",
    "            num1[i] = 1\n",
    "    return result\n",
    "                \n",
    "            \n",
    "            \n",
    "print(countTriplets([1, 3, 9],3))\n",
    "    "
   ]
  },
  {
   "cell_type": "code",
   "execution_count": 4,
   "id": "a5e5f6cc-e9ca-4950-a6c7-675e21da6cd0",
   "metadata": {},
   "outputs": [
    {
     "name": "stdout",
     "output_type": "stream",
     "text": [
      "2\n",
      "3\n",
      "6\n",
      "4\n",
      "161700\n"
     ]
    }
   ],
   "source": [
    "def countTriplets(arr, r):\n",
    "    result = 0\n",
    "    num1, num2 = {}, {}\n",
    "    for a in arr:\n",
    "        ra = int(a/r)\n",
    "        if ra > 0 and ra in num1:\n",
    "            rra = int(ra/r)\n",
    "            if rra > 0 and (rra, ra) in num2:\n",
    "                result += num2[(rra, ra)]\n",
    "            if (ra, a) in num2:\n",
    "                num2[(ra, a)] += num1[ra]\n",
    "            else:\n",
    "                num2[(ra, a)] = num1[ra]\n",
    "        if a in num1:\n",
    "            num1[a] += 1\n",
    "        else:\n",
    "            num1[a] = 1\n",
    "    return result\n",
    "\n",
    "\n",
    "print(countTriplets([1, 2, 2, 4], 2)) # 2\n",
    "print(countTriplets([1, 2, 1, 2, 4], 2)) # 3, not 4\n",
    "print(countTriplets([1, 3, 9, 9, 27, 81], 3)) # 6\n",
    "print(countTriplets([1, 5, 5, 25, 125], 5)) # 4\n",
    "print(countTriplets([1 for _ in range(100)], 1))"
   ]
  },
  {
   "cell_type": "code",
   "execution_count": 11,
   "id": "32f9e356-7de5-49f0-a43d-49f00ddd342f",
   "metadata": {},
   "outputs": [],
   "source": [
    "def countTriplets(arr, r):\n",
    "    if len(arr) <= 2:\n",
    "        return 0\n",
    "\n",
    "    map_arr = {}\n",
    "    map_doubles = {}\n",
    "    count = 0\n",
    "\n",
    "    # Traversing the array from rear, helps to avoid division\n",
    "    for x in arr[::-1]:\n",
    "        r_x = r*x\n",
    "        r_r_x = r*r_x\n",
    "\n",
    "        # Case: x is the first element (x, x*r, x*r*r)\n",
    "        count += map_doubles.get((r_x, r_r_x), 0)\n",
    "\n",
    "        # Case: x is the second element (x/r, x, x*r)\n",
    "        map_doubles[(x, r_x)] = map_doubles.get((x, r_x), 0) + map_arr.get(r_x, 0)\n",
    "\n",
    "        # Case: x is the third element (x/(r*r), x/r, x)\n",
    "        map_arr[x] = map_arr.get(x, 0) + 1\n",
    "\n",
    "    return count"
   ]
  }
 ],
 "metadata": {
  "kernelspec": {
   "display_name": "Python 3 (ipykernel)",
   "language": "python",
   "name": "python3"
  },
  "language_info": {
   "codemirror_mode": {
    "name": "ipython",
    "version": 3
   },
   "file_extension": ".py",
   "mimetype": "text/x-python",
   "name": "python",
   "nbconvert_exporter": "python",
   "pygments_lexer": "ipython3",
   "version": "3.9.13"
  }
 },
 "nbformat": 4,
 "nbformat_minor": 5
}
