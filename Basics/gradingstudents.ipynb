{
 "cells": [
  {
   "cell_type": "code",
   "execution_count": 1,
   "id": "606838ca-2d8e-4e25-943b-e776ccaef8fc",
   "metadata": {},
   "outputs": [],
   "source": [
    "def gradingStudents(grades):\n",
    "    res = []\n",
    "    for grade in grades:\n",
    "        if grade >= 38 and grade % 5 >= 3:\n",
    "            grade = grade + 5 - (grade % 5)\n",
    "        res.append(grade)\n",
    "    return res\n"
   ]
  }
 ],
 "metadata": {
  "kernelspec": {
   "display_name": "Python 3 (ipykernel)",
   "language": "python",
   "name": "python3"
  },
  "language_info": {
   "codemirror_mode": {
    "name": "ipython",
    "version": 3
   },
   "file_extension": ".py",
   "mimetype": "text/x-python",
   "name": "python",
   "nbconvert_exporter": "python",
   "pygments_lexer": "ipython3",
   "version": "3.9.13"
  }
 },
 "nbformat": 4,
 "nbformat_minor": 5
}
