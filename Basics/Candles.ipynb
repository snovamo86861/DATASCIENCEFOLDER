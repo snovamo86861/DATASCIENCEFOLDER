{
 "cells": [
  {
   "cell_type": "markdown",
   "id": "c56ac1d2-ad2c-4371-925a-1dde45c4a10e",
   "metadata": {},
   "source": [
    "Function Description\n",
    "\n",
    "Complete the function birthdayCakeCandles in the editor below.\n",
    "\n",
    "birthdayCakeCandles has the following parameter(s):\n",
    "\n",
    "int candles[n]: the candle heights\n",
    "Returns\n",
    "\n",
    "int: the number of candles that are tallest"
   ]
  },
  {
   "cell_type": "code",
   "execution_count": 3,
   "id": "6788ed8f-fc94-449c-9981-5eb2ca101a2c",
   "metadata": {},
   "outputs": [],
   "source": [
    "def birthdayCakeCandles(candles):\n",
    "    # Write your code here\n",
    "    count=0\n",
    "    hightest = max(candles)\n",
    "    for i in range(len(candles)):\n",
    "        if(candles[i]==hightest):\n",
    "            count+=1\n",
    "    return count\n",
    "\n"
   ]
  },
  {
   "cell_type": "code",
   "execution_count": null,
   "id": "e3cf8477-e577-42dd-9b1f-9a371fc68044",
   "metadata": {},
   "outputs": [],
   "source": []
  }
 ],
 "metadata": {
  "kernelspec": {
   "display_name": "Python 3 (ipykernel)",
   "language": "python",
   "name": "python3"
  },
  "language_info": {
   "codemirror_mode": {
    "name": "ipython",
    "version": 3
   },
   "file_extension": ".py",
   "mimetype": "text/x-python",
   "name": "python",
   "nbconvert_exporter": "python",
   "pygments_lexer": "ipython3",
   "version": "3.9.13"
  }
 },
 "nbformat": 4,
 "nbformat_minor": 5
}
