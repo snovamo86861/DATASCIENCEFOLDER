{
 "cells": [
  {
   "cell_type": "markdown",
   "id": "d739d132-059e-43ef-8502-5d25fd24bbf9",
   "metadata": {},
   "source": [
    "\"\"\"Given a time in 12 -hour AM/PM format, convert it to military (24-hour) time.\n",
    "\n",
    "Note: - 12:00:00AM on a 12-hour clock is 00:00:00 on a 24-hour clock.\n",
    "- 12:00:00PM on a 12-hour clock is 12:00:00 on a 24-hour clock.\n",
    "\n",
    "\n",
    "Function Description: \n",
    "\n",
    "string s: a time in 12  hour format\n",
    "Returns\n",
    "\n",
    "string: the time in 24  hour format\n",
    "\n",
    "\"\"\"\n"
   ]
  },
  {
   "cell_type": "code",
   "execution_count": 7,
   "id": "0cf3b471-8d2b-4c10-9571-1c2b4ef0b946",
   "metadata": {},
   "outputs": [
    {
     "name": "stdout",
     "output_type": "stream",
     "text": [
      "17:42:12\n"
     ]
    }
   ],
   "source": [
    "#Given a time in 12 -hour AM/PM format, convert it to military (24-hour) time.\n",
    "\n",
    "# Python program to convert time\n",
    "# from 12 hour to 24 hour format\n",
    " \n",
    "# Function to convert the date format\n",
    "def convert_time(conv1):\n",
    "     \n",
    "    # Checking if last two elements of time\n",
    "    # is AM and first two elements are 12\n",
    "    if conv1[:-2] == \"AM\" and conv1[:2] == \"12\":\n",
    "        return \"00\" + conv1[2:-2]\n",
    "         \n",
    "    # remove the AM    \n",
    "    elif conv1[-2:] == \"AM\":\n",
    "        return conv1[:-2]\n",
    "     \n",
    "    # Checking if last two elements of time\n",
    "    # is PM and first two elements are 12\n",
    "    elif conv1[-2:] == \"PM\" and conv1[:2] == \"12\":\n",
    "        return conv1[:-2]\n",
    "         \n",
    "    else:\n",
    "         \n",
    "        # add 12 to hours and remove PM\n",
    "        return str(int(conv1[:2]) + 12) + conv1[2:8]\n",
    "#Call function  \n",
    "       \n",
    "print(convert_time(\"05:42:12 PM\"))\n",
    "    "
   ]
  },
  {
   "cell_type": "code",
   "execution_count": 8,
   "id": "cef71476-b7b1-4b0b-ad20-179b52760cd7",
   "metadata": {},
   "outputs": [
    {
     "name": "stdout",
     "output_type": "stream",
     "text": [
      "20:05:45\n"
     ]
    }
   ],
   "source": [
    "def timeConversion(s):\n",
    "    # Write your code here\n",
    "    \n",
    "    if s[-2:] == \"AM\" and s[:2] == \"12\": \n",
    "        return \"00\" + s[2:-2] \n",
    "    elif s[-2:] == \"AM\": \n",
    "        return s[:-2]\n",
    "    elif s[-2:] == \"PM\" and s[:2] == \"12\": \n",
    "        return s[:-2] \n",
    "    else:\n",
    "       ans = int(s[:2]) + 12\n",
    "       return str(str(ans) + s[2:8])\n",
    "print(timeConversion(\"08:05:45 PM\"))"
   ]
  }
 ],
 "metadata": {
  "kernelspec": {
   "display_name": "Python 3 (ipykernel)",
   "language": "python",
   "name": "python3"
  },
  "language_info": {
   "codemirror_mode": {
    "name": "ipython",
    "version": 3
   },
   "file_extension": ".py",
   "mimetype": "text/x-python",
   "name": "python",
   "nbconvert_exporter": "python",
   "pygments_lexer": "ipython3",
   "version": "3.9.13"
  }
 },
 "nbformat": 4,
 "nbformat_minor": 5
}
