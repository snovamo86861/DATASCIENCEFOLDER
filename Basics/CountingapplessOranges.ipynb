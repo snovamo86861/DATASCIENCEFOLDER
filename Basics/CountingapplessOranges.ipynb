{
 "cells": [
  {
   "cell_type": "markdown",
   "id": "b39eeffa-c63d-4045-86b7-cd5798683734",
   "metadata": {},
   "source": [
    "'''\n",
    "problem--\n",
    "Sam's house has an apple tree and an orange tree that yield an abundance of fruit. In the diagram below, the red region denotes his house, where s is the start point, and t is the endpoint. The apple tree is to the left of his house, and the orange tree is to its right. You can assume the trees are located on a single point, where the apple tree is at point a, and the orange tree is at point b.\n",
    "When a fruit falls from its tree, it lands d units of distance from its tree of origin along the x-axis. A negative value of d means the fruit fell d units to the tree's left, and a positive value of d means it falls d units to the tree's right.\n",
    "Given the value of d for m apples and n oranges, determine how many apples and oranges will fall on Sam's house (i.e., in the inclusive range [s,t])?\n",
    "Function Description--\n",
    "Complete the countApplesAndOranges function in the editor below. It should print the number of apples and oranges that land on Sam's house, each on a separate line.\n",
    "countApplesAndOranges has the following parameter(s):\n",
    "s: integer, starting point of Sam's house location.\n",
    "t: integer, ending location of Sam's house location.\n",
    "a: integer, location of the Apple tree.\n",
    "b: integer, location of the Orange tree.\n",
    "apples: integer array, distances at which each apple falls from the tree.\n",
    "oranges: integer array, distances at which each orange falls from the tree.\n",
    "Input Format--\n",
    "The first line contains two space-separated integers denoting the respective values of s and t.\n",
    "The second line contains two space-separated integers denoting the respective values of a and b.\n",
    "The third line contains two space-separated integers denoting the respective values of m and n.\n",
    "The fourth line contains m space-separated integers denoting the respective distances that each apple falls from point a.\n",
    "The fifth line contains n space-separated integers denoting the respective distances that each orange falls from point b.\n",
    "Constraints--\n",
    "1<=s,t,a,b,m,n<=10^5\n",
    "10^-5<=d<=10^5\n",
    "a<s<t<b\n",
    "Output Format--\n",
    "Print two integers on two different lines:\n",
    "1. The first integer: the number of apples that fall on Sam's house.\n",
    "2. The second integer: the number of oranges that fall on Sam's house.\n",
    "Sample Input 0--\n",
    "7 11\n",
    "5 15\n",
    "3 2\n",
    "-2 2 1\n",
    "5 -6\n",
    "Sample Output 0--\n",
    "1\n",
    "1\n",
    "'''\n"
   ]
  },
  {
   "cell_type": "code",
   "execution_count": 16,
   "id": "9c650f26-f9c2-4927-b0a7-1e2d37dc1b45",
   "metadata": {},
   "outputs": [],
   "source": [
    "def countApplesAndOranges(s,t,a,b,apples, oranges):\n",
    "    appls = []\n",
    "    orangs = []\n",
    "    for i in apples:\n",
    "        if a+i >= s and a+i <= t:\n",
    "            appls.append(a+i)\n",
    "    for i in oranges:\n",
    "        if b+i >= s and b+i<=t:\n",
    "            orangs.append(b+i)\n",
    "    print(len(appls))\n",
    "    print(len(orangs))\n",
    "\n",
    "  "
   ]
  }
 ],
 "metadata": {
  "kernelspec": {
   "display_name": "Python 3 (ipykernel)",
   "language": "python",
   "name": "python3"
  },
  "language_info": {
   "codemirror_mode": {
    "name": "ipython",
    "version": 3
   },
   "file_extension": ".py",
   "mimetype": "text/x-python",
   "name": "python",
   "nbconvert_exporter": "python",
   "pygments_lexer": "ipython3",
   "version": "3.9.13"
  }
 },
 "nbformat": 4,
 "nbformat_minor": 5
}
