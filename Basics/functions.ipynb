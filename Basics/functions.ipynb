{
 "cells": [
  {
   "cell_type": "code",
   "execution_count": 1,
   "id": "d8cb3ec5-494c-4999-8680-2d2adf2a6138",
   "metadata": {},
   "outputs": [
    {
     "name": "stdout",
     "output_type": "stream",
     "text": [
      "Tati 27\n"
     ]
    }
   ],
   "source": [
    "#Write a program to create a function that takes two arguments, name and age, and print their value.\n",
    "\n",
    "def test(name, age):\n",
    "    print(name, age)\n",
    "    \n",
    "#call function\n",
    "\n",
    "test(\"Tati\",27)\n"
   ]
  },
  {
   "cell_type": "code",
   "execution_count": 10,
   "id": "4205e6b1-331b-4046-a95c-ca844f36fe3d",
   "metadata": {},
   "outputs": [
    {
     "name": "stdout",
     "output_type": "stream",
     "text": [
      "Bowie, NYC, 2\n"
     ]
    }
   ],
   "source": [
    "#Write a program to create a function that takes two arguments, Dog name, city, age, and print their value.\n",
    "\n",
    "def pup(dog_name, city, age):\n",
    "    print(dog_name, city, age)\n",
    "    \n",
    "#call function\n",
    "\n",
    "pup(\"Bowie,\", \"NYC,\", 2)"
   ]
  },
  {
   "cell_type": "code",
   "execution_count": 20,
   "id": "531fdb81-17b4-494f-8841-3bb06d3ae2e7",
   "metadata": {},
   "outputs": [
    {
     "name": "stdout",
     "output_type": "stream",
     "text": [
      "70\n",
      "45\n",
      "90\n",
      "100\n",
      "20\n",
      "30\n",
      "60\n"
     ]
    }
   ],
   "source": [
    "#Write a program to create function func1() to accept a variable length of arguments and print their value.\n",
    "\n",
    "def func1(*args):\n",
    "    for i in args:\n",
    "        print(i)\n",
    "        \n",
    "func1(70, 45, 90, 100)\n",
    "func1(20,30, 60)\n",
    "\n",
    "\n",
    "\n"
   ]
  },
  {
   "cell_type": "code",
   "execution_count": 18,
   "id": "60797c84-6134-47a1-83d1-dee57e6157c1",
   "metadata": {},
   "outputs": [
    {
     "data": {
      "text/plain": [
       "20"
      ]
     },
     "execution_count": 18,
     "metadata": {},
     "output_type": "execute_result"
    }
   ],
   "source": [
    "def sum(*args):\n",
    "    value = 0\n",
    "    for n in args:\n",
    "        value += n\n",
    "    return value\n",
    "\n",
    "sum(88+45+62+84)\n",
    "sum(10+10)"
   ]
  },
  {
   "cell_type": "code",
   "execution_count": 14,
   "id": "7a96d7c6-2a8c-4fd8-8bad-af0b5225f636",
   "metadata": {},
   "outputs": [
    {
     "name": "stdout",
     "output_type": "stream",
     "text": [
      "Average 63.75\n"
     ]
    }
   ],
   "source": [
    "#write a program to create a function percent that takes four arguments and print the average\n",
    "\n",
    "\n",
    "def percent(arg1, arg2, arg3, arg4):\n",
    "    average=(arg1 + arg2 +  arg3 + arg4)/ 4\n",
    "    print(\"Average\", average)\n",
    "    \n",
    "#call function\n",
    "\n",
    "percent(80,55,60,60)"
   ]
  },
  {
   "cell_type": "code",
   "execution_count": 25,
   "id": "18e851ed-92b5-4c92-ab15-69b5bc57b2dc",
   "metadata": {},
   "outputs": [
    {
     "name": "stdout",
     "output_type": "stream",
     "text": [
      "Average =  63.75\n"
     ]
    }
   ],
   "source": [
    "# function with variable-length arguments\n",
    "\n",
    "def percent(*args):\n",
    "    sum = 0\n",
    "    for i in args:\n",
    "        #get total\n",
    "        sum = sum + i\n",
    "    #calculate average\n",
    "    average = sum / len(args)\n",
    "    print(\"Average = \", average)\n",
    "\n",
    "#call function\n",
    "\n",
    "percent(80,55,60,60)"
   ]
  },
  {
   "cell_type": "code",
   "execution_count": 33,
   "id": "4e64380a-d35c-4fc5-bf94-96dd12fd6e1c",
   "metadata": {},
   "outputs": [
    {
     "name": "stdout",
     "output_type": "stream",
     "text": [
      "celphone_bill = $ 50\n",
      "credit_Card = $ 250\n",
      "metro_card = $ 127\n"
     ]
    }
   ],
   "source": [
    "# function with variable-length keyword arguments\n",
    "\n",
    "def percent(**kwargs):\n",
    "    sum = 0\n",
    "    for i in kwargs:\n",
    "        #get argument name\n",
    "        argument_name = i\n",
    "        #get argument value\n",
    "        argument_value = kwargs[i]\n",
    "        print(argument_name,\"=\",\"$\", argument_value)\n",
    "\n",
    "# pass multiple keyword arguments\n",
    "\n",
    "percent(celphone_bill = 50, credit_Card = 250, metro_card = 127)\n"
   ]
  },
  {
   "cell_type": "code",
   "execution_count": 35,
   "id": "1111d7ac-6dc5-4c87-99e7-48937baeb5e5",
   "metadata": {},
   "outputs": [
    {
     "name": "stdout",
     "output_type": "stream",
     "text": [
      "Math = 85\n",
      "science = 78\n",
      "History = 88\n",
      "English = 90\n"
     ]
    }
   ],
   "source": [
    "def grades(**kwargs):\n",
    "    sum = 0\n",
    "    for i in kwargs:\n",
    "        argument1 = i\n",
    "        argumentv = kwargs[i]\n",
    "        print(argument1, \"=\", argumentv)\n",
    "grades(Math= 85, science=78, History= 88, English=90)"
   ]
  },
  {
   "cell_type": "code",
   "execution_count": 50,
   "id": "de1c4734-b8ea-4b18-8b02-8bb2c1eaea61",
   "metadata": {},
   "outputs": [
    {
     "name": "stdout",
     "output_type": "stream",
     "text": [
      "(100, 60)\n"
     ]
    }
   ],
   "source": [
    "#Return multiple values from a function\n",
    "#Write a program to create function calculation() such that it can accept two variables and calculate addition and subtraction. Also, it must return both addition and subtraction in a single return call.\n",
    "\n",
    "def calculation(var1, var2):\n",
    "    addition = var1 + var2\n",
    "    subtraction= var1- var2\n",
    "    #return addition and substraction\n",
    "    return addition, subtraction\n",
    "\n",
    "#get result in tuple format\n",
    "result = calculation(80,20)\n",
    "print(result)\n"
   ]
  },
  {
   "cell_type": "code",
   "execution_count": 51,
   "id": "8b1f4df8-1721-42ee-96bc-562ccc3d9e60",
   "metadata": {},
   "outputs": [
    {
     "name": "stdout",
     "output_type": "stream",
     "text": [
      "(248, 52)\n"
     ]
    }
   ],
   "source": [
    "def bank_account(arg1, arg2):\n",
    "    deposit = arg1 + arg2\n",
    "    withdrawal = arg1 -arg2\n",
    "    #return addition and substration of the bank account\n",
    "    return deposit, withdrawal\n",
    "\n",
    "#get result in tuple format\n",
    "\n",
    "total = bank_account(150,98)\n",
    "print(total)"
   ]
  },
  {
   "cell_type": "code",
   "execution_count": 55,
   "id": "84927ab3-0307-4d2b-847c-318011b6acfd",
   "metadata": {},
   "outputs": [
    {
     "name": "stdout",
     "output_type": "stream",
     "text": [
      "Name:  Aggie Salary: 56000\n",
      "Name:  Rob Salary: 85000\n",
      "Name:  Carls Salary: 106000\n",
      "Name:  Blair Salary: 85000\n"
     ]
    }
   ],
   "source": [
    "# Create a function with a default argument\n",
    "\n",
    "#Write a program to create a function show_employee() using the following conditions.\n",
    "#It should accept the employee’s name and salary and display both.\n",
    "#If the salary is missing in the function call then assign default value 85000 to salary\n",
    "\n",
    "def show_employee(name, salary = 85000):\n",
    "    print(\"Name: \", name, \"Salary:\", salary)\n",
    "\n",
    "show_employee(\"Aggie\", 56000)\n",
    "show_employee(\"Rob\")\n",
    "show_employee(\"Carls\", 106000)\n",
    "show_employee(\"Blair\")\n",
    "\n",
    "\n"
   ]
  },
  {
   "cell_type": "code",
   "execution_count": 58,
   "id": "0ffc6244-0ac1-419d-99b8-3b1afc8558d4",
   "metadata": {},
   "outputs": [
    {
     "name": "stdout",
     "output_type": "stream",
     "text": [
      "Student details: name: Sarah age: 14 grade: 80 school: Marymounth\n",
      "Student details: name: Carl age: 15 grade: 79 school: Jackson School\n",
      "Student details: name: Bowie age: 16 grade: 85 school: Marymounth\n"
     ]
    }
   ],
   "source": [
    "#Define a function student() with four arguments name, age, grade, and school. In this function, grade and school are default arguments with default values.\n",
    "\n",
    "\n",
    "def student(name, age, grade= 85, school= \"Marymounth\"):\n",
    "    print(\"Student details:\", \"name:\", name, \"age:\",age, \"grade:\",grade, \"school:\",school)\n",
    "    \n",
    "\n",
    "student(\"Sarah\",14,80)\n",
    "student(\"Carl\" ,15 ,79, \"Jackson School\")\n",
    "student(\"Bowie\",16)\n",
    "\n",
    "    "
   ]
  },
  {
   "cell_type": "code",
   "execution_count": 67,
   "id": "fdc765d5-1720-486b-bfb1-6c759231390c",
   "metadata": {},
   "outputs": [
    {
     "name": "stdout",
     "output_type": "stream",
     "text": [
      "Dog details Bowie 2\n",
      "Dog details Rocky 1.5\n",
      "Dog details Bonita 4\n",
      "Dog details Bonnie 6\n"
     ]
    }
   ],
   "source": [
    "\n",
    "# function with 2 keyword arguments\n",
    "\n",
    "def dogs(name, age):\n",
    "    print(\"Dog details\", name,age)\n",
    "    \n",
    "# default function call\n",
    "dogs(\"Bowie\", 2)\n",
    "dogs(\"Rocky\", 1.5)\n",
    "\n",
    "# both keyword arguments\n",
    "dogs(name=\"Bonita\", age=4)\n",
    "\n",
    "# 1 positional and 1 keyword\n",
    "\n",
    "dogs(\"Bonnie\", age=6)"
   ]
  },
  {
   "cell_type": "code",
   "execution_count": 76,
   "id": "35170fe0-035b-4b09-9d89-60f8147c9ec0",
   "metadata": {},
   "outputs": [
    {
     "name": "stdout",
     "output_type": "stream",
     "text": [
      "35\n"
     ]
    }
   ],
   "source": [
    "#Create an inner function to calculate the addition in the following way\n",
    "\n",
    "   #Create an inner function to calculate the addition in the following way\n",
    "\n",
    "   #Create a test function that will accept two parameters, a and b\n",
    "   #Create an inner function inside a test function that will calculate the addition of a and b\n",
    "   #At last, a test  function will add 5 into addition and return it\n",
    "\n",
    "#test function\n",
    "def test(a,b):\n",
    "    \n",
    "    # inner function\n",
    "    def addition(a,b):\n",
    "        return a + b\n",
    "    #call inner function from test function\n",
    "    add = addition(a, b)\n",
    "    return add + 5\n",
    "\n",
    "result = test(10,20)\n",
    "print(result)\n",
    "    \n",
    "    \n",
    "        \n",
    "    \n",
    "    "
   ]
  },
  {
   "cell_type": "code",
   "execution_count": 74,
   "id": "ecffad16-8740-41f1-9316-ed07ce1b0cb1",
   "metadata": {},
   "outputs": [
    {
     "name": "stdout",
     "output_type": "stream",
     "text": [
      "105\n"
     ]
    }
   ],
   "source": [
    "def test(a,b):\n",
    "    def addition(a,b):\n",
    "        return a + b\n",
    "    add = addition(a, b)\n",
    "    return add + 5\n",
    "\n",
    "result = test(50,50)\n",
    "print(result)\n"
   ]
  },
  {
   "cell_type": "code",
   "execution_count": 84,
   "id": "8b009fa0-04fe-422e-9240-e6736eeda82b",
   "metadata": {},
   "outputs": [
    {
     "name": "stdout",
     "output_type": "stream",
     "text": [
      "55\n"
     ]
    }
   ],
   "source": [
    "#Create a recursive function\n",
    "   #Write a program to create a recursive function to calculate the sum of numbers from 0 to 10.\n",
    "   #A recursive function is a function that calls itself again and again.\n",
    "\n",
    "def recursive_fun(num):\n",
    "    if num:\n",
    "        #call same function by reducing number by 1\n",
    "        return num + recursive_fun(num - 1)\n",
    "    else:\n",
    "        return 0\n",
    "\n",
    "result= recursive_fun(10)\n",
    "print(result)\n",
    "\n",
    "\n",
    "#If the number is even, then we are allowed to only divide the number by 2.\n",
    "#But, when the number is Odd, we can either increment or decrement it by 1. \n",
    "#So, we will use recursion for both n-1 and n+1 and return the one with the minimum number of operations.\n",
    "#Recursion occurs when a function calls itself directly or indirectly.\n",
    "#https://developer.ibm.com/articles/l-recurs/"
   ]
  },
  {
   "cell_type": "code",
   "execution_count": 5,
   "id": "7d581f91-f1fd-4fd8-95d1-35289b669ef7",
   "metadata": {},
   "outputs": [
    {
     "name": "stdout",
     "output_type": "stream",
     "text": [
      "Bowie 2\n",
      "Bowie 2\n"
     ]
    }
   ],
   "source": [
    "#Assign a different name to function and call it through the new name\n",
    "\n",
    "#Below is the function dog (name, age). \n",
    "#Assign a new name pup(name, age) to it and call it using the new name.\n",
    "def dog(name, age):\n",
    "    print(name, age)\n",
    "\n",
    "#call using original name\n",
    "dog(\"Bowie\", 2)\n",
    "\n",
    "# assign new name\n",
    "pup = dog\n",
    "# call using new name\n",
    "pup(\"Bowie\" , 2)"
   ]
  },
  {
   "cell_type": "code",
   "execution_count": 7,
   "id": "fdcc468e-02d0-475a-a96b-50f06ba4717b",
   "metadata": {},
   "outputs": [
    {
     "name": "stdout",
     "output_type": "stream",
     "text": [
      "Vizsla Bowie 2\n",
      "Eskimo Rocky 2\n",
      "Vizsla Bowie 2\n",
      "Eskimo Rocky 2\n"
     ]
    }
   ],
   "source": [
    "#function\n",
    "def  dogs (breed, name, age):\n",
    "    print(breed, name, age)\n",
    "\n",
    "# call using original name\n",
    "\n",
    "dogs(\"Vizsla\", \"Bowie\", 2)\n",
    "dogs(\"Eskimo\", \"Rocky\", 2)\n",
    "# assign new name\n",
    "Puppies = dogs\n",
    "# call using new name\n",
    "Puppies(\"Vizsla\", \"Bowie\", 2)\n",
    "Puppies(\"Eskimo\", \"Rocky\", 2)"
   ]
  },
  {
   "cell_type": "code",
   "execution_count": 8,
   "id": "f63eab6d-3af6-4807-b6e6-28e28c56e320",
   "metadata": {},
   "outputs": [
    {
     "name": "stdout",
     "output_type": "stream",
     "text": [
      "[4, 6, 8, 10, 12, 14, 16, 18, 20, 22, 24, 26, 28]\n"
     ]
    }
   ],
   "source": [
    "#Generate a Python list of all the even numbers between 4 to 30\n",
    "\n",
    "print(list(range(4, 30, 2)))"
   ]
  },
  {
   "cell_type": "code",
   "execution_count": 10,
   "id": "387e5c40-e14d-461d-8db4-8dab19c8ff9c",
   "metadata": {},
   "outputs": [
    {
     "name": "stdout",
     "output_type": "stream",
     "text": [
      "[5, 10, 15, 20, 25, 30, 35, 40, 45, 50, 55, 60, 65, 70, 75, 80, 85, 90, 95]\n"
     ]
    }
   ],
   "source": [
    "print(list(range(5,100,5)))"
   ]
  },
  {
   "cell_type": "code",
   "execution_count": 12,
   "id": "54975a5d-3019-416c-8dc5-c44e105514f6",
   "metadata": {},
   "outputs": [
    {
     "name": "stdout",
     "output_type": "stream",
     "text": [
      "[0, 2, 4, 6, 8]\n"
     ]
    }
   ],
   "source": [
    "print(list(range(0,10,2)))"
   ]
  },
  {
   "cell_type": "code",
   "execution_count": 13,
   "id": "a2c83fb2-5eb6-477d-92ff-a292b658a8d4",
   "metadata": {},
   "outputs": [
    {
     "name": "stdout",
     "output_type": "stream",
     "text": [
      "[0, 4, 8, 12, 16, 20, 24, 28, 32, 36]\n"
     ]
    }
   ],
   "source": [
    "print(list(range(0,40,4)))"
   ]
  }
 ],
 "metadata": {
  "kernelspec": {
   "display_name": "Python 3 (ipykernel)",
   "language": "python",
   "name": "python3"
  },
  "language_info": {
   "codemirror_mode": {
    "name": "ipython",
    "version": 3
   },
   "file_extension": ".py",
   "mimetype": "text/x-python",
   "name": "python",
   "nbconvert_exporter": "python",
   "pygments_lexer": "ipython3",
   "version": "3.9.13"
  }
 },
 "nbformat": 4,
 "nbformat_minor": 5
}
