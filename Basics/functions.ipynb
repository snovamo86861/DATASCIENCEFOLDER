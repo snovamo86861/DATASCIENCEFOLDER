{
 "cells": [
  {
   "cell_type": "code",
   "execution_count": 1,
   "id": "d8cb3ec5-494c-4999-8680-2d2adf2a6138",
   "metadata": {},
   "outputs": [
    {
     "name": "stdout",
     "output_type": "stream",
     "text": [
      "Tati 27\n"
     ]
    }
   ],
   "source": [
    "#Write a program to create a function that takes two arguments, name and age, and print their value.\n",
    "\n",
    "def test(name, age):\n",
    "    print(name, age)\n",
    "    \n",
    "#call function\n",
    "\n",
    "test(\"Tati\",27)\n"
   ]
  },
  {
   "cell_type": "code",
   "execution_count": 10,
   "id": "4205e6b1-331b-4046-a95c-ca844f36fe3d",
   "metadata": {},
   "outputs": [
    {
     "name": "stdout",
     "output_type": "stream",
     "text": [
      "Bowie, NYC, 2\n"
     ]
    }
   ],
   "source": [
    "#Write a program to create a function that takes two arguments, Dog name, city, age, and print their value.\n",
    "\n",
    "def pup(dog_name, city, age):\n",
    "    print(dog_name, city, age)\n",
    "    \n",
    "#call function\n",
    "\n",
    "pup(\"Bowie,\", \"NYC,\", 2)"
   ]
  },
  {
   "cell_type": "code",
   "execution_count": 20,
   "id": "531fdb81-17b4-494f-8841-3bb06d3ae2e7",
   "metadata": {},
   "outputs": [
    {
     "name": "stdout",
     "output_type": "stream",
     "text": [
      "70\n",
      "45\n",
      "90\n",
      "100\n",
      "20\n",
      "30\n",
      "60\n"
     ]
    }
   ],
   "source": [
    "#Write a program to create function func1() to accept a variable length of arguments and print their value.\n",
    "\n",
    "def func1(*args):\n",
    "    for i in args:\n",
    "        print(i)\n",
    "        \n",
    "func1(70, 45, 90, 100)\n",
    "func1(20,30, 60)\n",
    "\n",
    "\n",
    "\n"
   ]
  },
  {
   "cell_type": "code",
   "execution_count": 18,
   "id": "60797c84-6134-47a1-83d1-dee57e6157c1",
   "metadata": {},
   "outputs": [
    {
     "data": {
      "text/plain": [
       "20"
      ]
     },
     "execution_count": 18,
     "metadata": {},
     "output_type": "execute_result"
    }
   ],
   "source": [
    "def sum(*args):\n",
    "    value = 0\n",
    "    for n in args:\n",
    "        value += n\n",
    "    return value\n",
    "\n",
    "sum(88+45+62+84)\n",
    "sum(10+10)"
   ]
  },
  {
   "cell_type": "code",
   "execution_count": 14,
   "id": "7a96d7c6-2a8c-4fd8-8bad-af0b5225f636",
   "metadata": {},
   "outputs": [
    {
     "name": "stdout",
     "output_type": "stream",
     "text": [
      "Average 63.75\n"
     ]
    }
   ],
   "source": [
    "#write a program to create a function percent that takes four arguments and print the average\n",
    "\n",
    "\n",
    "def percent(arg1, arg2, arg3, arg4):\n",
    "    average=(arg1 + arg2 +  arg3 + arg4)/ 4\n",
    "    print(\"Average\", average)\n",
    "    \n",
    "#call function\n",
    "\n",
    "percent(80,55,60,60)"
   ]
  },
  {
   "cell_type": "code",
   "execution_count": 25,
   "id": "18e851ed-92b5-4c92-ab15-69b5bc57b2dc",
   "metadata": {},
   "outputs": [
    {
     "name": "stdout",
     "output_type": "stream",
     "text": [
      "Average =  63.75\n"
     ]
    }
   ],
   "source": [
    "# function with variable-length arguments\n",
    "\n",
    "def percent(*args):\n",
    "    sum = 0\n",
    "    for i in args:\n",
    "        #get total\n",
    "        sum = sum + i\n",
    "    #calculate average\n",
    "    average = sum / len(args)\n",
    "    print(\"Average = \", average)\n",
    "\n",
    "#call function\n",
    "\n",
    "percent(80,55,60,60)"
   ]
  },
  {
   "cell_type": "code",
   "execution_count": 33,
   "id": "4e64380a-d35c-4fc5-bf94-96dd12fd6e1c",
   "metadata": {},
   "outputs": [
    {
     "name": "stdout",
     "output_type": "stream",
     "text": [
      "celphone_bill = $ 50\n",
      "credit_Card = $ 250\n",
      "metro_card = $ 127\n"
     ]
    }
   ],
   "source": [
    "# function with variable-length keyword arguments\n",
    "\n",
    "def percent(**kwargs):\n",
    "    sum = 0\n",
    "    for i in kwargs:\n",
    "        #get argument name\n",
    "        argument_name = i\n",
    "        #get argument value\n",
    "        argument_value = kwargs[i]\n",
    "        print(argument_name,\"=\",\"$\", argument_value)\n",
    "\n",
    "# pass multiple keyword arguments\n",
    "\n",
    "percent(celphone_bill = 50, credit_Card = 250, metro_card = 127)\n"
   ]
  },
  {
   "cell_type": "code",
   "execution_count": 35,
   "id": "1111d7ac-6dc5-4c87-99e7-48937baeb5e5",
   "metadata": {},
   "outputs": [
    {
     "name": "stdout",
     "output_type": "stream",
     "text": [
      "Math = 85\n",
      "science = 78\n",
      "History = 88\n",
      "English = 90\n"
     ]
    }
   ],
   "source": [
    "def grades(**kwargs):\n",
    "    sum = 0\n",
    "    for i in kwargs:\n",
    "        argument1 = i\n",
    "        argumentv = kwargs[i]\n",
    "        print(argument1, \"=\", argumentv)\n",
    "grades(Math= 85, science=78, History= 88, English=90)"
   ]
  },
  {
   "cell_type": "code",
   "execution_count": 50,
   "id": "de1c4734-b8ea-4b18-8b02-8bb2c1eaea61",
   "metadata": {},
   "outputs": [
    {
     "name": "stdout",
     "output_type": "stream",
     "text": [
      "(100, 60)\n"
     ]
    }
   ],
   "source": [
    "#Write a program to create function calculation() such that it can accept two variables and calculate addition and subtraction. Also, it must return both addition and subtraction in a single return call.\n",
    "\n",
    "def calculation(var1, var2):\n",
    "    addition = var1 + var2\n",
    "    subtraction= var1- var2\n",
    "    #return addition and substraction\n",
    "    return addition, subtraction\n",
    "\n",
    "#get result in tuple format\n",
    "result = calculation(80,20)\n",
    "print(result)\n"
   ]
  },
  {
   "cell_type": "code",
   "execution_count": null,
   "id": "8b1f4df8-1721-42ee-96bc-562ccc3d9e60",
   "metadata": {},
   "outputs": [],
   "source": [
    "def bank_account(arg1, arg2):\n",
    "    deposit = arg1 + arg2\n",
    "    withdrawal = arg1 -arg2\n",
    "    #return addition and substration of the bank account\n",
    "    return deposit, withdrawal\n",
    "\n",
    "#g"
   ]
  }
 ],
 "metadata": {
  "kernelspec": {
   "display_name": "Python 3 (ipykernel)",
   "language": "python",
   "name": "python3"
  },
  "language_info": {
   "codemirror_mode": {
    "name": "ipython",
    "version": 3
   },
   "file_extension": ".py",
   "mimetype": "text/x-python",
   "name": "python",
   "nbconvert_exporter": "python",
   "pygments_lexer": "ipython3",
   "version": "3.9.13"
  }
 },
 "nbformat": 4,
 "nbformat_minor": 5
}
