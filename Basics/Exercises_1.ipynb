{
 "cells": [
  {
   "cell_type": "code",
   "execution_count": 11,
   "id": "0ba8b6fa-853f-401d-b559-649c41b6dc06",
   "metadata": {},
   "outputs": [
    {
     "name": "stdout",
     "output_type": "stream",
     "text": [
      "The result is 20\n",
      "The result is  1003\n"
     ]
    }
   ],
   "source": [
    "#Calculate the multiplication and sum of two numbers\n",
    "def mul_or_sum(num1, num2):\n",
    "    #calculate product of num1, num2\n",
    "    product = num1 * num2\n",
    "    #check if the product is less than 1000\n",
    "    if product <= 1000:\n",
    "        return product\n",
    "    else:\n",
    "    #if the product is freater than 1000 calculate sum\n",
    "        return num1 + num2\n",
    "        \n",
    "        \n",
    "        \n",
    "     \n",
    "    \n",
    "\n",
    "#first condition\n",
    "result = mul_or_sum(5,4)\n",
    "print(\"The result is\", result)\n",
    "#second condition\n",
    "result = mul_or_sum(1001,2)\n",
    "print(\"The result is \", result)\n",
    "\n"
   ]
  },
  {
   "cell_type": "code",
   "execution_count": 3,
   "id": "d835226b-23bc-4db7-b5ae-d81e08ebed76",
   "metadata": {},
   "outputs": [
    {
     "name": "stdout",
     "output_type": "stream",
     "text": [
      "Printing current and previous number and their sum in a range(20)\n",
      "Current Number 1 Previous Number 0 Sum: 1\n",
      "Current Number 2 Previous Number 1 Sum: 3\n",
      "Current Number 3 Previous Number 2 Sum: 5\n",
      "Current Number 4 Previous Number 3 Sum: 7\n",
      "Current Number 5 Previous Number 4 Sum: 9\n",
      "Current Number 6 Previous Number 5 Sum: 11\n",
      "Current Number 7 Previous Number 6 Sum: 13\n",
      "Current Number 8 Previous Number 7 Sum: 15\n",
      "Current Number 9 Previous Number 8 Sum: 17\n",
      "Current Number 10 Previous Number 9 Sum: 19\n"
     ]
    }
   ],
   "source": [
    "#Print the sum of the current number and the previous number\n",
    "print(\"Printing current and previous number and their sum in a range(20)\")\n",
    "previous_number = 0\n",
    "\n",
    "#loop from 1 to 20  \n",
    "for i in range (1,11):\n",
    "    suma = previous_number + i\n",
    "    print(\"Current Number\", i, \"Previous Number\", previous_number, \"Sum:\", suma)\n",
    "    # modify previous number\n",
    "    # set it to the current number\n",
    "    previous_number = i\n",
    "\n",
    "      \n"
   ]
  },
  {
   "cell_type": "code",
   "execution_count": 5,
   "id": "109afbcc-f727-4112-969b-44cffffe7f14",
   "metadata": {},
   "outputs": [
    {
     "name": "stdout",
     "output_type": "stream",
     "text": [
      "2\n",
      "8\n",
      "10\n",
      "40\n",
      "80\n",
      "90\n",
      "120\n"
     ]
    }
   ],
   "source": [
    "#Print characters from a string that are present at an even index number\n",
    "#Write a program to create function func1() to accept a variable length of arguments and print their value.\n",
    "#Note: Create a function in such a way that we can pass any number of arguments to this function, and the function should process them and display each argument’s value.\n",
    "\n",
    "def func1(*args):\n",
    "    for i in args:\n",
    "        print(i)\n",
    "\n",
    "func1(2,8,10)\n",
    "func1(40,80,90,120)\n",
    "\n"
   ]
  },
  {
   "cell_type": "code",
   "execution_count": 8,
   "id": "f7a051b1-552f-4bd8-ab26-13dc5a663ee5",
   "metadata": {},
   "outputs": [
    {
     "name": "stdin",
     "output_type": "stream",
     "text": [
      "Enter word sandra\n"
     ]
    },
    {
     "name": "stdout",
     "output_type": "stream",
     "text": [
      "Original String: sandra\n",
      "Printing only even index chars\n",
      "index[ 0 ] s\n",
      "index[ 2 ] n\n",
      "index[ 4 ] r\n"
     ]
    }
   ],
   "source": [
    "#Print characters from a string that are present at an even index number\n",
    "#Write a program to accept a string from the user and display characters that are present at an even index number.\n",
    "\n",
    "#For example, str = \"pynative\" so you should display ‘p’, ‘n’, ‘t’, ‘v’.\n",
    "\n",
    "# accept input string from a user\n",
    "word = input(\"Enter word\")\n",
    "print(\"Original String:\", word)\n",
    "\n",
    "#get the length of a string\n",
    "size = len(word)\n",
    "\n",
    "\n",
    "#iterate each caracter of a string \n",
    "#start: 0 to start with first character\n",
    "#stop: size -1 because index stars with 0\n",
    "#step:2 to get the characters present at even index like 0,2,4\n",
    "\n",
    "print(\"Printing only even index chars\")\n",
    "for i in range(0,size -1,2):\n",
    "    print(\"index[\",i,\"]\",word[i])\n"
   ]
  },
  {
   "cell_type": "code",
   "execution_count": 9,
   "id": "8f5529f0-d7bb-46b2-a2b9-8861bb9cb83b",
   "metadata": {},
   "outputs": [
    {
     "name": "stdin",
     "output_type": "stream",
     "text": [
      "Enter word Villavicencio\n"
     ]
    },
    {
     "name": "stdout",
     "output_type": "stream",
     "text": [
      "Original String: Villavicencio\n",
      "Printing only odd index chars\n",
      "index[ 0 ] V\n",
      "index[ 3 ] l\n",
      "index[ 6 ] i\n",
      "index[ 9 ] n\n"
     ]
    }
   ],
   "source": [
    "#Print characters from a string that are present at an even index number\n",
    "#Write a program to accept a string from the user and display characters that are present at an even index number.\n",
    "\n",
    "\n",
    "#accept input string from a user\n",
    "word = input(\"Enter word\")\n",
    "print(\"Original String:\", word)\n",
    "\n",
    "#get the length of a string\n",
    "size = len(word)\n",
    "\n",
    "#iterate each caracter of a string\n",
    "\n",
    "print(\"Printing only odd index chars\")\n",
    "\n",
    "for i in range(0,size -1, 3):\n",
    "    print(\"index[\",i,\"]\",word[i])\n",
    "    "
   ]
  },
  {
   "cell_type": "code",
   "execution_count": 12,
   "id": "365e9fd1-1f9d-4337-8bbb-32bc43bff391",
   "metadata": {},
   "outputs": [
    {
     "name": "stdout",
     "output_type": "stream",
     "text": [
      "Removing characters from a string\n",
      "lavicencio\n"
     ]
    }
   ],
   "source": [
    "# Remove first n characters from a string\n",
    "\n",
    "#Write a program to remove characters from a string starting from zero up to n and return a new string.\n",
    "def remove_characters(word, n):\n",
    "    x = word[n:]\n",
    "    return x\n",
    "\n",
    "print(\"Removing characters from a string\")\n",
    "print(remove_characters(\"Villavicencio\", 3))\n"
   ]
  },
  {
   "cell_type": "code",
   "execution_count": 19,
   "id": "03ea74ec-bd7c-4bd4-987b-aa83add54f24",
   "metadata": {},
   "outputs": [
    {
     "name": "stdout",
     "output_type": "stream",
     "text": [
      "Giving list: [2, 4, 6, 8, 10]\n",
      "result is  False\n",
      "Giving list: [12, 14, 16, 8, 20]\n",
      "result is False\n",
      "Giving list: [12, 69, 78, 15, 12]\n",
      "result is True\n",
      "Giving list: [14, 35, 14, 85, 69, 34, 15, 858, 14]\n",
      "result is True\n"
     ]
    }
   ],
   "source": [
    "#Check if the first and last number of a list is the same\n",
    "#Write a function to return True if the first and last number of a given list is same. If numbers are different then return False.0\n",
    "\n",
    "def first_and_last_same(numList):\n",
    "    print(\"Giving list:\", numList)\n",
    "    \n",
    "    first_num = numList[0]\n",
    "    last_num = numList[-1]\n",
    "    \n",
    "    if first_num == last_num:\n",
    "        return True\n",
    "    else:\n",
    "        return False\n",
    "    \n",
    "\n",
    "    \n",
    "numbers_x = [2,4,6,8,10]\n",
    "print(\"result is \", first_and_last_same(numbers_x))\n",
    "\n",
    "numbers_y = [12,14,16,8,20]\n",
    "print(\"result is\", first_and_last_same(numbers_y))\n",
    "\n",
    "numbers_z = [12,69,78,15,12]\n",
    "print(\"result is\", first_and_last_same(numbers_z))\n",
    "\n",
    "numbers_w =[14,35,14,85,69,34,15,858,14]\n",
    "print(\"result is\", first_and_last_same(numbers_w))\n",
    "\n"
   ]
  },
  {
   "cell_type": "code",
   "execution_count": 23,
   "id": "8a8b509a-398d-403e-b767-fd3f9a719e24",
   "metadata": {},
   "outputs": [
    {
     "name": "stdout",
     "output_type": "stream",
     "text": [
      "Given list: [100, 25, 36, 45, 78, 75, 95, 90, 105, 500]\n",
      "Divisible by 5:\n",
      "100\n",
      "25\n",
      "45\n",
      "75\n",
      "95\n",
      "90\n",
      "105\n",
      "500\n"
     ]
    }
   ],
   "source": [
    "#Display numbers divisible by 5 from a list\n",
    "#Iterate the given list of numbers and print only those numbers which are divisible by 5\n",
    "\n",
    "\n",
    "num_list = [100, 25,36,45,78,75,95,90,105,500]\n",
    "print(\"Given list:\", num_list)\n",
    "print(\"Divisible by 5:\")\n",
    "for num in num_list:\n",
    "      if num % 5 == 0:\n",
    "        print(num)\n",
    "\n",
    "     "
   ]
  },
  {
   "cell_type": "code",
   "execution_count": 24,
   "id": "7f80ea90-63ef-4275-a927-2fa3c42067bb",
   "metadata": {},
   "outputs": [
    {
     "name": "stdout",
     "output_type": "stream",
     "text": [
      "Giving list: [8, 45, 36, 102, 47, 38, 104, 200, 46, 66]\n",
      "Divisible by 8:\n",
      "8\n",
      "104\n",
      "200\n"
     ]
    }
   ],
   "source": [
    "#Display numbers divisible by 8 from a list\n",
    "\n",
    "num_list2=[8,45,36,102,47,38,104,200,46,66]\n",
    "print(\"Giving list:\", num_list2)\n",
    "print(\"Divisible by 8:\")\n",
    "\n",
    "for num in num_list2:\n",
    "    if num % 8 == 0:\n",
    "        print(num)"
   ]
  },
  {
   "cell_type": "code",
   "execution_count": 48,
   "id": "811e9473-ca19-4536-bb29-51d0f3a94d8f",
   "metadata": {},
   "outputs": [
    {
     "name": "stdout",
     "output_type": "stream",
     "text": [
      "Given String: Villavicencio is located a few hours south of Bogota. Villavicencio is not a interesting city\n",
      "Villavicencio appeared 2 times\n"
     ]
    }
   ],
   "source": [
    "#Return the count of a given substring from a string\n",
    "#Write a program to find how many times substring “Villavicencio” appears in the given string.\n",
    "\n",
    "\n",
    "\n",
    "def count_string(statement):\n",
    "    print(\"Given String:\", statement)\n",
    "    count = 0\n",
    "    for i in range(len(statement) - 1):\n",
    "        count += statement[i: i + 13] == \"Villavicencio\"\n",
    "    return count\n",
    "count = count_string(\"Villavicencio is located a few hours south of Bogota. Villavicencio is not a interesting city\")\n",
    "print(\"Villavicencio appeared\", count, \"times\")    \n"
   ]
  },
  {
   "cell_type": "code",
   "execution_count": 9,
   "id": "b77cde1c-10a2-4689-abfc-59422aa5bb19",
   "metadata": {},
   "outputs": [
    {
     "name": "stdout",
     "output_type": "stream",
     "text": [
      "Given String: Bowie is the most adorable dog\n",
      "Bowie appeared 1 times\n"
     ]
    }
   ],
   "source": [
    "#Return the count of a given substring from a string\n",
    "#Write a program to find how many times substring “Villavicencio” appears in the given string.\n",
    "def count_string(statement):\n",
    "    print(\"Given String:\", statement)\n",
    "    count = 0\n",
    "    for i in range(len(statement) - 1):\n",
    "        count += statement[i: i + 5] == \"Bowie\"\n",
    "    return count\n",
    "count = count_string(\"Bowie is the most adorable dog\")\n",
    "print(\"Bowie appeared\", count, \"times\")    \n",
    "\n"
   ]
  },
  {
   "cell_type": "code",
   "execution_count": 5,
   "id": "8685351d-ef90-4cca-82d6-e4cbf0b1226d",
   "metadata": {},
   "outputs": [
    {
     "name": "stdout",
     "output_type": "stream",
     "text": [
      "Given String: Bowie is my everything\n",
      "Bowie appered 1 times\n"
     ]
    }
   ],
   "source": [
    "def count_string(statement):\n",
    "    print(\"Given String:\", statement)\n",
    "    co = 0\n",
    "    for i in range(len(statement) - 1):\n",
    "        co += statement[i: i + 5] == \"Bowie\"\n",
    "    return co\n",
    "co = count_string(\"Bowie is my everything\")\n",
    "print(\"Bowie appered\", co, \"times\")"
   ]
  },
  {
   "cell_type": "markdown",
   "id": "49aa7b09-6591-467d-8106-91feed9d15c8",
   "metadata": {},
   "source": [
    "#Print the following pattern:\n",
    "\n",
    "\n",
    "1\n",
    "\n",
    "22\n",
    "\n",
    "333\n",
    "\n",
    "4444\n",
    "\n",
    "55555\n",
    "\n",
    "666666\n",
    "\n",
    "7777777\n"
   ]
  },
  {
   "cell_type": "code",
   "execution_count": 12,
   "id": "1e3051fc-5ab6-45c9-99ae-7c7d7951cb26",
   "metadata": {},
   "outputs": [
    {
     "name": "stdout",
     "output_type": "stream",
     "text": [
      "\n",
      "\n",
      "1\n",
      "\n",
      "22\n",
      "\n",
      "333\n",
      "\n",
      "4444\n",
      "\n",
      "55555\n",
      "\n",
      "666666\n",
      "\n",
      "7777777\n",
      "\n"
     ]
    }
   ],
   "source": [
    "\n",
    "for num in range (8):\n",
    "    for i in range(num):\n",
    "        #print number\n",
    "        print(num, end=\"\")\n",
    "    #print new line after each row to display patter correctly\n",
    "    print(\"\\n\")\n",
    "\n"
   ]
  },
  {
   "cell_type": "code",
   "execution_count": 14,
   "id": "7320a9de-48ff-4c05-ad20-ee6c1b28e41d",
   "metadata": {},
   "outputs": [
    {
     "name": "stdout",
     "output_type": "stream",
     "text": [
      "Original number 525\n",
      "Given number is a palindrome\n",
      "Original number 845\n",
      "Given number is not a palindrome\n",
      "Original number 555\n",
      "Given number is a palindrome\n",
      "Original number 232\n",
      "Given number is a palindrome\n"
     ]
    }
   ],
   "source": [
    "#Check Palindrome Number\n",
    "#Write a program to check if the given number is a palindrome number.\n",
    "#A palindrome number is a number that is same after reverse. For example 545, is the palindrome numbers\n",
    "\n",
    "def palindrome(num):\n",
    "    print(\"Original number\", num)\n",
    "    original_num = num\n",
    "    \n",
    "    #reverse the given number\n",
    "    reverse_num = 0\n",
    "    while num > 0:\n",
    "        reminder = num % 10\n",
    "        reverse_num = (reverse_num * 10) + reminder\n",
    "        num = num // 10\n",
    "        \n",
    "    #check numbers\n",
    "    \n",
    "    if original_num == reverse_num:\n",
    "        print(\"Given number is a palindrome\")\n",
    "    else:\n",
    "        print(\"Given number is not a palindrome\")\n",
    "\n",
    "    \n",
    "palindrome(525)\n",
    "palindrome(845)\n",
    "palindrome(555)\n",
    "palindrome(232)\n",
    "\n"
   ]
  },
  {
   "cell_type": "code",
   "execution_count": 17,
   "id": "1ffa97f0-b6d0-4619-ab00-7ee409c1ff83",
   "metadata": {},
   "outputs": [
    {
     "name": "stdout",
     "output_type": "stream",
     "text": [
      "result list: [33, 41, 77, 63]\n"
     ]
    }
   ],
   "source": [
    "#Create a new list from a two list using the following condition\n",
    "\n",
    "#Given a two list of numbers, write a program to create a new list such that the new list\n",
    "#should contain odd numbers from the first list and even numbers from the second list.\n",
    "\n",
    "def merge_list(list1, list2):\n",
    "    result_list = []\n",
    "    \n",
    "    # iterate first list\n",
    "    for num in list1:\n",
    "        # check if current number is odd\n",
    "        if num % 2 != 0:\n",
    "            # add odd number to result list\n",
    "            result_list.append(num)\n",
    "    return result_list\n",
    "\n",
    "    # iterate second list\n",
    "    for num in list2:\n",
    "        #check if current number is even\n",
    "        if num %2 == 0:\n",
    "            #add even number to result list\n",
    "            result_list.append(num)\n",
    "    return result_list\n",
    "            \n",
    "        \n",
    "\n",
    "list1 = [50, 33, 41, 88, 77,63,98]\n",
    "list2 = [5, 12, 43, 21, 87,43,78]\n",
    "\n",
    "#print result\n",
    "print(\"result list:\", merge_list(list1, list2))\n"
   ]
  },
  {
   "cell_type": "code",
   "execution_count": 19,
   "id": "01de99e6-d09a-4936-8e47-94edeab6f56e",
   "metadata": {},
   "outputs": [
    {
     "name": "stdout",
     "output_type": "stream",
     "text": [
      "Given number 214578\n",
      "875412"
     ]
    }
   ],
   "source": [
    "# Write a Program to extract each digit from an integer in the reverse order.\n",
    "number = 214578\n",
    "print(\"Given number:\", number)\n",
    "while number > 0:\n",
    "    #get the last digit\n",
    "    digit = number % 10\n",
    "    #remove the last digit and repeat the loop\n",
    "    number = number // 10\n",
    "    print(digit, end=\"\") "
   ]
  },
  {
   "cell_type": "code",
   "execution_count": 37,
   "id": "9d0bfcf8-aacd-4aab-aa71-12bf37d6b9f7",
   "metadata": {},
   "outputs": [
    {
     "name": "stdout",
     "output_type": "stream",
     "text": [
      "Palindrome\n"
     ]
    }
   ],
   "source": [
    "#String Palindrome  - Write a program converting a number into a string and verify if it is a polindrome.\n",
    "#Define a function \n",
    "def converting_palindrome(s):\n",
    "    # Base Case\n",
    "    if len(s) <= 1 :\n",
    "        return True\n",
    "    \n",
    "    # Recursive Case\n",
    "    if s[0] == s[len(s) - 1] :\n",
    "        return converting_palindrome(s[1:len(s) - 1])\n",
    "    else:\n",
    "        return False\n",
    " # Converting the number to string\n",
    "if(check_palindrome(str(555))): \n",
    "    print(\"Palindrome\")\n",
    "else:\n",
    "    print(\"Not a Palindrome\")"
   ]
  },
  {
   "cell_type": "code",
   "execution_count": 30,
   "id": "9466e3c7-abd2-45cb-8d45-77e32e830db7",
   "metadata": {},
   "outputs": [
    {
     "name": "stdin",
     "output_type": "stream",
     "text": [
      "Enter the string: radar\n"
     ]
    },
    {
     "name": "stdout",
     "output_type": "stream",
     "text": [
      "radar is a Palindrome\n"
     ]
    }
   ],
   "source": [
    "#Write a program where there is a input of a string and the program confirms if it´s a polindrome or not.\n",
    "\n",
    "#user-defined function\n",
    "def palindrome_word(word):\n",
    "    return word == word[::-1]\n",
    "#take inputs\n",
    "string = input(\"Enter the string:\")\n",
    "\n",
    "#calling function and display result\n",
    "reverse_string = palindrome_word(string)\n",
    "if reverse_string:\n",
    "    print(string, \"is a Palindrome\")\n",
    "else: \n",
    "    print(string, \"is not a Palindrome\")\n",
    "\n"
   ]
  }
 ],
 "metadata": {
  "kernelspec": {
   "display_name": "Python 3 (ipykernel)",
   "language": "python",
   "name": "python3"
  },
  "language_info": {
   "codemirror_mode": {
    "name": "ipython",
    "version": 3
   },
   "file_extension": ".py",
   "mimetype": "text/x-python",
   "name": "python",
   "nbconvert_exporter": "python",
   "pygments_lexer": "ipython3",
   "version": "3.9.13"
  }
 },
 "nbformat": 4,
 "nbformat_minor": 5
}
